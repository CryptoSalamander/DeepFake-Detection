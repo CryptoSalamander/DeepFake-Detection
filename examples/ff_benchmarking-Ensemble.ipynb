{
 "cells": [
  {
   "cell_type": "code",
   "execution_count": 1,
   "id": "c50e22f1",
   "metadata": {},
   "outputs": [],
   "source": [
    "import os\n",
    "import re\n",
    "#import tensorrt as trt\n",
    "import cv2\n",
    "import traceback\n",
    "import numpy as np\n",
    "import time\n",
    "import torch\n",
    "from PIL import Image\n",
    "from tqdm import tqdm\n",
    "import time\n",
    "import glob\n",
    "import grpc\n",
    "#import tritonclient.grpc as grpcclient\n",
    "from albumentations.augmentations.functional import image_compression\n",
    "from training.zoo.classifiers import DeepFakeClassifier, DeepFakeClassifierWithViT\n",
    "from facenet_pytorch.models.mtcnn import MTCNN\n",
    "from concurrent.futures import ThreadPoolExecutor, ProcessPoolExecutor\n",
    "import torchvision.transforms as transforms\n",
    "from torchvision.transforms import Normalize\n",
    "#TRT_LOGGER = trt.Logger(trt.Logger.WARNING)\n",
    "mean = [0.485, 0.456, 0.406]\n",
    "std = [0.229, 0.224, 0.225]\n",
    "normalize_transform = Normalize(mean, std)\n",
    "DeNormalize = transforms.Compose([  Normalize(mean = [0., 0., 0. ], std = [1/0.229, 1/0.224, 1/0.225]),\n",
    "                                    Normalize(mean = [-0.485, -0.456,-0.406], std = [1., 1., 1.]), ])\n",
    "cuda = torch.device(2)\n",
    "def put_to_center(img, input_size):\n",
    "    img = img[:input_size, :input_size]\n",
    "    image = np.zeros((input_size, input_size, 3), dtype=np.uint8)\n",
    "    start_w = (input_size - img.shape[1]) // 2\n",
    "    start_h = (input_size - img.shape[0]) // 2\n",
    "    image[start_h:start_h + img.shape[0], start_w: start_w + img.shape[1], :] = img\n",
    "    return image\n",
    "\n",
    "\n",
    "\n",
    "def isotropically_resize_image(img, size, interpolation_down=cv2.INTER_AREA, interpolation_up=cv2.INTER_CUBIC):\n",
    "    h, w = img.shape[:2]\n",
    "    if max(w, h) == size:\n",
    "        return img\n",
    "    if w > h:\n",
    "        scale = size / w\n",
    "        h = h * scale\n",
    "        w = size\n",
    "    else:\n",
    "        scale = size / h\n",
    "        w = w * scale\n",
    "        h = size\n",
    "    interpolation = interpolation_up if scale > 1 else interpolation_down\n",
    "    resized = cv2.resize(img, (int(w), int(h)), interpolation=interpolation)\n",
    "    return resized"
   ]
  },
  {
   "cell_type": "code",
   "execution_count": 2,
   "id": "53e06f16",
   "metadata": {},
   "outputs": [],
   "source": [
    "detector = MTCNN(margin=0, thresholds=[0.7, 0.8, 0.8], device=cuda)\n",
    "model = DeepFakeClassifier(encoder=\"resnest269e\").to(cuda)\n",
    "checkpoint = torch.load(\"../weights/resnest269rec/resnest269rec_999_DeepFakeClassifier_resnest269e_0_best_dice\")\n",
    "state_dict = checkpoint.get(\"state_dict\", checkpoint)\n",
    "model.load_state_dict({re.sub(\"^module.\", \"\", k): v for k, v in state_dict.items()}, strict=False)\n",
    "model.eval()\n",
    "model = model.half()\n",
    "del checkpoint"
   ]
  },
  {
   "cell_type": "code",
   "execution_count": 3,
   "id": "af77fd16",
   "metadata": {
    "scrolled": true
   },
   "outputs": [
    {
     "name": "stdout",
     "output_type": "stream",
     "text": [
      "0 of 1000\n",
      "100 of 1000\n",
      "200 of 1000\n",
      "300 of 1000\n",
      "400 of 1000\n",
      "500 of 1000\n",
      "600 of 1000\n",
      "700 of 1000\n",
      "800 of 1000\n",
      "900 of 1000\n"
     ]
    }
   ],
   "source": [
    "img_path_list = sorted(glob.glob('../../faceforensics_benchmark_images/*.png'))\n",
    "file_name = []\n",
    "prob = []\n",
    "label = []\n",
    "\n",
    "with torch.no_grad():\n",
    "    n = 0\n",
    "    for i, img_path in enumerate(img_path_list):\n",
    "        if i % 100 == 0:\n",
    "            print(f\"{i} of 1000\")\n",
    "        img = Image.open(img_path)\n",
    "        frame = np.array(img)\n",
    "        img = img.resize(size=[s // 2 for s in img.size])\n",
    "\n",
    "        batch_boxes, probs = detector.detect(img, landmarks=False)\n",
    "        if batch_boxes is None:\n",
    "            file_name.append(img_path.split('/')[-1])\n",
    "            prob.append(0.5)\n",
    "            label.append('real')\n",
    "            continue\n",
    "\n",
    "        faces = []\n",
    "        scores = []\n",
    "\n",
    "        for bbox, score in zip(batch_boxes, probs):\n",
    "            if bbox is not None:\n",
    "                xmin, ymin, xmax, ymax = [int(b * 2) for b in bbox]\n",
    "                w = xmax - xmin\n",
    "                h = ymax - ymin\n",
    "                p_h = h // 3\n",
    "                p_w = w // 3\n",
    "                crop = frame[max(ymin - p_h, 0):ymax + p_h, max(xmin - p_w, 0):xmax + p_w]\n",
    "                faces.append(crop)\n",
    "                scores.append(score)\n",
    "\n",
    "        batch_size=len(faces)\n",
    "        input_size=416\n",
    "        x = np.zeros((batch_size,input_size,input_size, 3), dtype=np.uint8)\n",
    "\n",
    "        n = 0\n",
    "        for face in faces:\n",
    "            resized_face = isotropically_resize_image(face, input_size)\n",
    "            resized_face = put_to_center(resized_face, input_size)\n",
    "            x[n] = resized_face\n",
    "            n += 1\n",
    "\n",
    "        x = torch.tensor(x, device=cuda).float()\n",
    "\n",
    "        x = x.permute((0, 3, 1, 2))\n",
    "        for i in range(len(x)):\n",
    "            x[i] = normalize_transform(x[i] / 255.)\n",
    "        y_pred = model(x.half())\n",
    "        y_pred = torch.sigmoid(y_pred.squeeze())\n",
    "        y_pred = y_pred.cpu().numpy()\n",
    "        y_pred = y_pred.mean()\n",
    "        file_name.append(img_path.split('/')[-1])\n",
    "        prob.append(y_pred)\n",
    "        if(y_pred >= 0.5):\n",
    "            label.append('fake')\n",
    "        else:\n",
    "            label.append('real')"
   ]
  },
  {
   "cell_type": "code",
   "execution_count": 4,
   "id": "b56f350a",
   "metadata": {},
   "outputs": [
    {
     "name": "stdout",
     "output_type": "stream",
     "text": [
      "['0000.png', '0001.png', '0002.png', '0003.png', '0004.png', '0005.png', '0006.png', '0007.png', '0008.png', '0009.png', '0010.png', '0011.png', '0012.png', '0013.png', '0014.png', '0015.png', '0016.png', '0017.png', '0018.png', '0019.png', '0020.png', '0021.png', '0022.png', '0023.png', '0024.png', '0025.png', '0026.png', '0027.png', '0028.png', '0029.png', '0030.png', '0031.png', '0032.png', '0033.png', '0034.png', '0035.png', '0036.png', '0037.png', '0038.png', '0039.png', '0040.png', '0041.png', '0042.png', '0043.png', '0044.png', '0045.png', '0046.png', '0047.png', '0048.png', '0049.png', '0050.png', '0051.png', '0052.png', '0053.png', '0054.png', '0055.png', '0056.png', '0057.png', '0058.png', '0059.png', '0060.png', '0061.png', '0062.png', '0063.png', '0064.png', '0065.png', '0066.png', '0067.png', '0068.png', '0069.png', '0070.png', '0071.png', '0072.png', '0073.png', '0074.png', '0075.png', '0076.png', '0077.png', '0078.png', '0079.png', '0080.png', '0081.png', '0082.png', '0083.png', '0084.png', '0085.png', '0086.png', '0087.png', '0088.png', '0089.png', '0090.png', '0091.png', '0092.png', '0093.png', '0094.png', '0095.png', '0096.png', '0097.png', '0098.png', '0099.png', '0100.png', '0101.png', '0102.png', '0103.png', '0104.png', '0105.png', '0106.png', '0107.png', '0108.png', '0109.png', '0110.png', '0111.png', '0112.png', '0113.png', '0114.png', '0115.png', '0116.png', '0117.png', '0118.png', '0119.png', '0120.png', '0121.png', '0122.png', '0123.png', '0124.png', '0125.png', '0126.png', '0127.png', '0128.png', '0129.png', '0130.png', '0131.png', '0132.png', '0133.png', '0134.png', '0135.png', '0136.png', '0137.png', '0138.png', '0139.png', '0140.png', '0141.png', '0142.png', '0143.png', '0144.png', '0145.png', '0146.png', '0147.png', '0148.png', '0149.png', '0150.png', '0151.png', '0152.png', '0153.png', '0154.png', '0155.png', '0156.png', '0157.png', '0158.png', '0159.png', '0160.png', '0161.png', '0162.png', '0163.png', '0164.png', '0165.png', '0166.png', '0167.png', '0168.png', '0169.png', '0170.png', '0171.png', '0172.png', '0173.png', '0174.png', '0175.png', '0176.png', '0177.png', '0178.png', '0179.png', '0180.png', '0181.png', '0182.png', '0183.png', '0184.png', '0185.png', '0186.png', '0187.png', '0188.png', '0189.png', '0190.png', '0191.png', '0192.png', '0193.png', '0194.png', '0195.png', '0196.png', '0197.png', '0198.png', '0199.png', '0200.png', '0201.png', '0202.png', '0203.png', '0204.png', '0205.png', '0206.png', '0207.png', '0208.png', '0209.png', '0210.png', '0211.png', '0212.png', '0213.png', '0214.png', '0215.png', '0216.png', '0217.png', '0218.png', '0219.png', '0220.png', '0221.png', '0222.png', '0223.png', '0224.png', '0225.png', '0226.png', '0227.png', '0228.png', '0229.png', '0230.png', '0231.png', '0232.png', '0233.png', '0234.png', '0235.png', '0236.png', '0237.png', '0238.png', '0239.png', '0240.png', '0241.png', '0242.png', '0243.png', '0244.png', '0245.png', '0246.png', '0247.png', '0248.png', '0249.png', '0250.png', '0251.png', '0252.png', '0253.png', '0254.png', '0255.png', '0256.png', '0257.png', '0258.png', '0259.png', '0260.png', '0261.png', '0262.png', '0263.png', '0264.png', '0265.png', '0266.png', '0267.png', '0268.png', '0269.png', '0270.png', '0271.png', '0272.png', '0273.png', '0274.png', '0275.png', '0276.png', '0277.png', '0278.png', '0279.png', '0280.png', '0281.png', '0282.png', '0283.png', '0284.png', '0285.png', '0286.png', '0287.png', '0288.png', '0289.png', '0290.png', '0291.png', '0292.png', '0293.png', '0294.png', '0295.png', '0296.png', '0297.png', '0298.png', '0299.png', '0300.png', '0301.png', '0302.png', '0303.png', '0304.png', '0305.png', '0306.png', '0307.png', '0308.png', '0309.png', '0310.png', '0311.png', '0312.png', '0313.png', '0314.png', '0315.png', '0316.png', '0317.png', '0318.png', '0319.png', '0320.png', '0321.png', '0322.png', '0323.png', '0324.png', '0325.png', '0326.png', '0327.png', '0328.png', '0329.png', '0330.png', '0331.png', '0332.png', '0333.png', '0334.png', '0335.png', '0336.png', '0337.png', '0338.png', '0339.png', '0340.png', '0341.png', '0342.png', '0343.png', '0344.png', '0345.png', '0346.png', '0347.png', '0348.png', '0349.png', '0350.png', '0351.png', '0352.png', '0353.png', '0354.png', '0355.png', '0356.png', '0357.png', '0358.png', '0359.png', '0360.png', '0361.png', '0362.png', '0363.png', '0364.png', '0365.png', '0366.png', '0367.png', '0368.png', '0369.png', '0370.png', '0371.png', '0372.png', '0373.png', '0374.png', '0375.png', '0376.png', '0377.png', '0378.png', '0379.png', '0380.png', '0381.png', '0382.png', '0383.png', '0384.png', '0385.png', '0386.png', '0387.png', '0388.png', '0389.png', '0390.png', '0391.png', '0392.png', '0393.png', '0394.png', '0395.png', '0396.png', '0397.png', '0398.png', '0399.png', '0400.png', '0401.png', '0402.png', '0403.png', '0404.png', '0405.png', '0406.png', '0407.png', '0408.png', '0409.png', '0410.png', '0411.png', '0412.png', '0413.png', '0414.png', '0415.png', '0416.png', '0417.png', '0418.png', '0419.png', '0420.png', '0421.png', '0422.png', '0423.png', '0424.png', '0425.png', '0426.png', '0427.png', '0428.png', '0429.png', '0430.png', '0431.png', '0432.png', '0433.png', '0434.png', '0435.png', '0436.png', '0437.png', '0438.png', '0439.png', '0440.png', '0441.png', '0442.png', '0443.png', '0444.png', '0445.png', '0446.png', '0447.png', '0448.png', '0449.png', '0450.png', '0451.png', '0452.png', '0453.png', '0454.png', '0455.png', '0456.png', '0457.png', '0458.png', '0459.png', '0460.png', '0461.png', '0462.png', '0463.png', '0464.png', '0465.png', '0466.png', '0467.png', '0468.png', '0469.png', '0470.png', '0471.png', '0472.png', '0473.png', '0474.png', '0475.png', '0476.png', '0477.png', '0478.png', '0479.png', '0480.png', '0481.png', '0482.png', '0483.png', '0484.png', '0485.png', '0486.png', '0487.png', '0488.png', '0489.png', '0490.png', '0491.png', '0492.png', '0493.png', '0494.png', '0495.png', '0496.png', '0497.png', '0498.png', '0499.png', '0500.png', '0501.png', '0502.png', '0503.png', '0504.png', '0505.png', '0506.png', '0507.png', '0508.png', '0509.png', '0510.png', '0511.png', '0512.png', '0513.png', '0514.png', '0515.png', '0516.png', '0517.png', '0518.png', '0519.png', '0520.png', '0521.png', '0522.png', '0523.png', '0524.png', '0525.png', '0526.png', '0527.png', '0528.png', '0529.png', '0530.png', '0531.png', '0532.png', '0533.png', '0534.png', '0535.png', '0536.png', '0537.png', '0538.png', '0539.png', '0540.png', '0541.png', '0542.png', '0543.png', '0544.png', '0545.png', '0546.png', '0547.png', '0548.png', '0549.png', '0550.png', '0551.png', '0552.png', '0553.png', '0554.png', '0555.png', '0556.png', '0557.png', '0558.png', '0559.png', '0560.png', '0561.png', '0562.png', '0563.png', '0564.png', '0565.png', '0566.png', '0567.png', '0568.png', '0569.png', '0570.png', '0571.png', '0572.png', '0573.png', '0574.png', '0575.png', '0576.png', '0577.png', '0578.png', '0579.png', '0580.png', '0581.png', '0582.png', '0583.png', '0584.png', '0585.png', '0586.png', '0587.png', '0588.png', '0589.png', '0590.png', '0591.png', '0592.png', '0593.png', '0594.png', '0595.png', '0596.png', '0597.png', '0598.png', '0599.png', '0600.png', '0601.png', '0602.png', '0603.png', '0604.png', '0605.png', '0606.png', '0607.png', '0608.png', '0609.png', '0610.png', '0611.png', '0612.png', '0613.png', '0614.png', '0615.png', '0616.png', '0617.png', '0618.png', '0619.png', '0620.png', '0621.png', '0622.png', '0623.png', '0624.png', '0625.png', '0626.png', '0627.png', '0628.png', '0629.png', '0630.png', '0631.png', '0632.png', '0633.png', '0634.png', '0635.png', '0636.png', '0637.png', '0638.png', '0639.png', '0640.png', '0641.png', '0642.png', '0643.png', '0644.png', '0645.png', '0646.png', '0647.png', '0648.png', '0649.png', '0650.png', '0651.png', '0652.png', '0653.png', '0654.png', '0655.png', '0656.png', '0657.png', '0658.png', '0659.png', '0660.png', '0661.png', '0662.png', '0663.png', '0664.png', '0665.png', '0666.png', '0667.png', '0668.png', '0669.png', '0670.png', '0671.png', '0672.png', '0673.png', '0674.png', '0675.png', '0676.png', '0677.png', '0678.png', '0679.png', '0680.png', '0681.png', '0682.png', '0683.png', '0684.png', '0685.png', '0686.png', '0687.png', '0688.png', '0689.png', '0690.png', '0691.png', '0692.png', '0693.png', '0694.png', '0695.png', '0696.png', '0697.png', '0698.png', '0699.png', '0700.png', '0701.png', '0702.png', '0703.png', '0704.png', '0705.png', '0706.png', '0707.png', '0708.png', '0709.png', '0710.png', '0711.png', '0712.png', '0713.png', '0714.png', '0715.png', '0716.png', '0717.png', '0718.png', '0719.png', '0720.png', '0721.png', '0722.png', '0723.png', '0724.png', '0725.png', '0726.png', '0727.png', '0728.png', '0729.png', '0730.png', '0731.png', '0732.png', '0733.png', '0734.png', '0735.png', '0736.png', '0737.png', '0738.png', '0739.png', '0740.png', '0741.png', '0742.png', '0743.png', '0744.png', '0745.png', '0746.png', '0747.png', '0748.png', '0749.png', '0750.png', '0751.png', '0752.png', '0753.png', '0754.png', '0755.png', '0756.png', '0757.png', '0758.png', '0759.png', '0760.png', '0761.png', '0762.png', '0763.png', '0764.png', '0765.png', '0766.png', '0767.png', '0768.png', '0769.png', '0770.png', '0771.png', '0772.png', '0773.png', '0774.png', '0775.png', '0776.png', '0777.png', '0778.png', '0779.png', '0780.png', '0781.png', '0782.png', '0783.png', '0784.png', '0785.png', '0786.png', '0787.png', '0788.png', '0789.png', '0790.png', '0791.png', '0792.png', '0793.png', '0794.png', '0795.png', '0796.png', '0797.png', '0798.png', '0799.png', '0800.png', '0801.png', '0802.png', '0803.png', '0804.png', '0805.png', '0806.png', '0807.png', '0808.png', '0809.png', '0810.png', '0811.png', '0812.png', '0813.png', '0814.png', '0815.png', '0816.png', '0817.png', '0818.png', '0819.png', '0820.png', '0821.png', '0822.png', '0823.png', '0824.png', '0825.png', '0826.png', '0827.png', '0828.png', '0829.png', '0830.png', '0831.png', '0832.png', '0833.png', '0834.png', '0835.png', '0836.png', '0837.png', '0838.png', '0839.png', '0840.png', '0841.png', '0842.png', '0843.png', '0844.png', '0845.png', '0846.png', '0847.png', '0848.png', '0849.png', '0850.png', '0851.png', '0852.png', '0853.png', '0854.png', '0855.png', '0856.png', '0857.png', '0858.png', '0859.png', '0860.png', '0861.png', '0862.png', '0863.png', '0864.png', '0865.png', '0866.png', '0867.png', '0868.png', '0869.png', '0870.png', '0871.png', '0872.png', '0873.png', '0874.png', '0875.png', '0876.png', '0877.png', '0878.png', '0879.png', '0880.png', '0881.png', '0882.png', '0883.png', '0884.png', '0885.png', '0886.png', '0887.png', '0888.png', '0889.png', '0890.png', '0891.png', '0892.png', '0893.png', '0894.png', '0895.png', '0896.png', '0897.png', '0898.png', '0899.png', '0900.png', '0901.png', '0902.png', '0903.png', '0904.png', '0905.png', '0906.png', '0907.png', '0908.png', '0909.png', '0910.png', '0911.png', '0912.png', '0913.png', '0914.png', '0915.png', '0916.png', '0917.png', '0918.png', '0919.png', '0920.png', '0921.png', '0922.png', '0923.png', '0924.png', '0925.png', '0926.png', '0927.png', '0928.png', '0929.png', '0930.png', '0931.png', '0932.png', '0933.png', '0934.png', '0935.png', '0936.png', '0937.png', '0938.png', '0939.png', '0940.png', '0941.png', '0942.png', '0943.png', '0944.png', '0945.png', '0946.png', '0947.png', '0948.png', '0949.png', '0950.png', '0951.png', '0952.png', '0953.png', '0954.png', '0955.png', '0956.png', '0957.png', '0958.png', '0959.png', '0960.png', '0961.png', '0962.png', '0963.png', '0964.png', '0965.png', '0966.png', '0967.png', '0968.png', '0969.png', '0970.png', '0971.png', '0972.png', '0973.png', '0974.png', '0975.png', '0976.png', '0977.png', '0978.png', '0979.png', '0980.png', '0981.png', '0982.png', '0983.png', '0984.png', '0985.png', '0986.png', '0987.png', '0988.png', '0989.png', '0990.png', '0991.png', '0992.png', '0993.png', '0994.png', '0995.png', '0996.png', '0997.png', '0998.png', '0999.png']\n",
      "['fake', 'real', 'real', 'real', 'fake', 'real', 'real', 'fake', 'real', 'real', 'real', 'real', 'real', 'real', 'real', 'real', 'real', 'real', 'real', 'real', 'real', 'real', 'real', 'real', 'real', 'real', 'real', 'real', 'real', 'fake', 'fake', 'real', 'real', 'real', 'fake', 'fake', 'real', 'fake', 'real', 'real', 'fake', 'real', 'fake', 'real', 'real', 'real', 'real', 'real', 'fake', 'real', 'real', 'real', 'fake', 'real', 'real', 'real', 'real', 'real', 'fake', 'real', 'fake', 'real', 'real', 'real', 'real', 'real', 'real', 'real', 'fake', 'fake', 'fake', 'fake', 'real', 'real', 'fake', 'real', 'real', 'real', 'fake', 'real', 'real', 'fake', 'fake', 'real', 'real', 'real', 'real', 'fake', 'real', 'real', 'real', 'real', 'fake', 'real', 'fake', 'real', 'real', 'real', 'real', 'fake', 'real', 'real', 'real', 'real', 'fake', 'real', 'real', 'real', 'real', 'fake', 'real', 'fake', 'real', 'real', 'fake', 'fake', 'real', 'real', 'real', 'fake', 'fake', 'fake', 'real', 'real', 'fake', 'fake', 'real', 'real', 'fake', 'fake', 'real', 'real', 'real', 'real', 'real', 'real', 'real', 'fake', 'real', 'fake', 'fake', 'real', 'fake', 'fake', 'real', 'fake', 'real', 'real', 'fake', 'real', 'real', 'fake', 'fake', 'real', 'real', 'real', 'real', 'fake', 'real', 'fake', 'fake', 'fake', 'real', 'real', 'real', 'real', 'real', 'real', 'fake', 'fake', 'real', 'real', 'fake', 'real', 'fake', 'fake', 'real', 'fake', 'fake', 'real', 'real', 'fake', 'real', 'real', 'fake', 'real', 'real', 'fake', 'real', 'real', 'fake', 'real', 'real', 'real', 'real', 'real', 'fake', 'fake', 'real', 'real', 'real', 'fake', 'real', 'real', 'real', 'real', 'real', 'fake', 'fake', 'real', 'real', 'real', 'real', 'fake', 'real', 'fake', 'real', 'real', 'real', 'fake', 'real', 'real', 'real', 'real', 'real', 'real', 'real', 'real', 'real', 'real', 'fake', 'fake', 'fake', 'fake', 'fake', 'real', 'fake', 'real', 'fake', 'real', 'real', 'real', 'real', 'real', 'real', 'real', 'real', 'real', 'real', 'real', 'real', 'real', 'real', 'fake', 'real', 'real', 'real', 'real', 'real', 'fake', 'real', 'fake', 'real', 'real', 'real', 'real', 'real', 'real', 'fake', 'fake', 'real', 'real', 'fake', 'fake', 'real', 'fake', 'fake', 'real', 'real', 'real', 'real', 'real', 'real', 'real', 'real', 'real', 'real', 'real', 'real', 'fake', 'real', 'real', 'real', 'real', 'real', 'fake', 'real', 'real', 'real', 'real', 'real', 'real', 'real', 'real', 'fake', 'fake', 'real', 'real', 'fake', 'real', 'real', 'real', 'real', 'fake', 'fake', 'real', 'real', 'real', 'real', 'real', 'fake', 'real', 'real', 'real', 'real', 'real', 'fake', 'real', 'fake', 'real', 'real', 'fake', 'real', 'fake', 'real', 'real', 'fake', 'real', 'real', 'real', 'real', 'fake', 'real', 'real', 'fake', 'real', 'real', 'real', 'real', 'fake', 'real', 'fake', 'real', 'real', 'fake', 'real', 'real', 'real', 'real', 'fake', 'fake', 'real', 'real', 'real', 'real', 'fake', 'real', 'fake', 'fake', 'fake', 'fake', 'real', 'fake', 'real', 'fake', 'real', 'real', 'real', 'fake', 'real', 'real', 'real', 'real', 'fake', 'real', 'fake', 'real', 'real', 'fake', 'real', 'fake', 'real', 'real', 'fake', 'fake', 'real', 'real', 'real', 'fake', 'fake', 'real', 'real', 'real', 'real', 'fake', 'fake', 'real', 'real', 'real', 'real', 'real', 'fake', 'real', 'real', 'real', 'real', 'real', 'fake', 'real', 'fake', 'real', 'real', 'fake', 'fake', 'real', 'real', 'real', 'real', 'real', 'real', 'real', 'real', 'real', 'real', 'fake', 'real', 'fake', 'fake', 'real', 'fake', 'fake', 'fake', 'fake', 'real', 'real', 'fake', 'real', 'fake', 'fake', 'real', 'real', 'real', 'real', 'real', 'real', 'fake', 'real', 'real', 'real', 'real', 'real', 'real', 'real', 'real', 'fake', 'fake', 'fake', 'real', 'fake', 'real', 'real', 'real', 'real', 'real', 'fake', 'real', 'fake', 'fake', 'real', 'fake', 'fake', 'fake', 'real', 'real', 'real', 'real', 'real', 'real', 'real', 'real', 'real', 'real', 'real', 'real', 'real', 'real', 'real', 'real', 'real', 'fake', 'real', 'fake', 'fake', 'fake', 'real', 'real', 'real', 'fake', 'fake', 'real', 'fake', 'fake', 'real', 'real', 'fake', 'real', 'fake', 'fake', 'real', 'fake', 'real', 'real', 'fake', 'real', 'fake', 'real', 'fake', 'real', 'real', 'real', 'fake', 'fake', 'real', 'real', 'real', 'real', 'fake', 'real', 'real', 'real', 'fake', 'real', 'real', 'real', 'fake', 'real', 'real', 'real', 'real', 'fake', 'real', 'real', 'fake', 'fake', 'real', 'real', 'real', 'fake', 'real', 'fake', 'fake', 'fake', 'real', 'real', 'fake', 'real', 'real', 'fake', 'real', 'fake', 'real', 'real', 'real', 'fake', 'real', 'fake', 'fake', 'fake', 'fake', 'real', 'real', 'fake', 'real', 'fake', 'fake', 'real', 'fake', 'real', 'fake', 'fake', 'real', 'fake', 'fake', 'real', 'real', 'real', 'real', 'real', 'real', 'fake', 'real', 'real', 'real', 'real', 'fake', 'real', 'fake', 'real', 'real', 'fake', 'real', 'real', 'real', 'real', 'fake', 'real', 'real', 'real', 'fake', 'fake', 'real', 'fake', 'real', 'real', 'real', 'fake', 'real', 'real', 'real', 'fake', 'fake', 'real', 'fake', 'fake', 'real', 'real', 'fake', 'real', 'real', 'real', 'real', 'real', 'real', 'real', 'real', 'real', 'real', 'fake', 'real', 'real', 'real', 'fake', 'real', 'real', 'real', 'fake', 'real', 'real', 'real', 'fake', 'real', 'fake', 'fake', 'fake', 'real', 'fake', 'fake', 'real', 'real', 'real', 'fake', 'real', 'real', 'real', 'real', 'real', 'real', 'real', 'real', 'real', 'real', 'real', 'real', 'fake', 'real', 'fake', 'fake', 'real', 'real', 'fake', 'real', 'real', 'real', 'real', 'fake', 'real', 'fake', 'real', 'real', 'real', 'real', 'fake', 'real', 'fake', 'fake', 'fake', 'real', 'real', 'real', 'fake', 'fake', 'fake', 'real', 'real', 'real', 'fake', 'real', 'real', 'real', 'fake', 'real', 'real', 'real', 'real', 'fake', 'fake', 'real', 'real', 'real', 'real', 'real', 'real', 'real', 'real', 'fake', 'real', 'real', 'real', 'fake', 'fake', 'fake', 'fake', 'fake', 'real', 'real', 'real', 'fake', 'real', 'fake', 'fake', 'real', 'real', 'real', 'real', 'fake', 'fake', 'real', 'real', 'real', 'real', 'real', 'fake', 'fake', 'fake', 'real', 'real', 'fake', 'fake', 'real', 'real', 'fake', 'real', 'real', 'real', 'real', 'fake', 'real', 'real', 'real', 'fake', 'real', 'real', 'real', 'real', 'real', 'fake', 'fake', 'real', 'fake', 'fake', 'fake', 'real', 'fake', 'real', 'real', 'real', 'fake', 'real', 'real', 'real', 'fake', 'real', 'real', 'real', 'fake', 'real', 'fake', 'real', 'real', 'real', 'fake', 'fake', 'real', 'real', 'real', 'real', 'fake', 'real', 'real', 'fake', 'real', 'real', 'real', 'fake', 'real', 'real', 'real', 'real', 'fake', 'real', 'real', 'real', 'real', 'real', 'real', 'real', 'real', 'real', 'fake', 'real', 'fake', 'real', 'real', 'fake', 'real', 'fake', 'real', 'real', 'real', 'fake', 'real', 'real', 'real', 'real', 'real', 'real', 'fake', 'real', 'real', 'real', 'fake', 'fake', 'fake', 'fake', 'real', 'real', 'real', 'real', 'real', 'real', 'real', 'fake', 'real', 'fake', 'real', 'fake', 'real', 'real', 'real', 'real', 'real', 'real', 'real', 'real', 'real', 'real', 'real', 'real', 'real', 'real', 'real', 'real', 'real', 'real', 'fake', 'real', 'real', 'real', 'real', 'real', 'real', 'real', 'real', 'fake', 'real', 'real', 'fake', 'real', 'real', 'real', 'real', 'fake', 'real', 'real', 'fake', 'real', 'fake', 'real', 'real', 'fake', 'real', 'real', 'real', 'real', 'real', 'real', 'real', 'real', 'real', 'fake', 'real', 'real', 'real', 'real', 'real', 'real', 'real', 'real', 'real', 'real', 'real', 'real', 'fake', 'fake', 'fake', 'real', 'fake', 'fake', 'real', 'real', 'fake', 'fake', 'real', 'real', 'real', 'real', 'real', 'real', 'real', 'real', 'real', 'real', 'fake', 'real', 'real', 'real', 'fake', 'real', 'fake', 'real', 'real', 'real', 'real', 'fake', 'real', 'real', 'real', 'fake', 'real', 'real', 'fake', 'real', 'real', 'fake', 'real', 'real', 'real', 'real', 'fake', 'fake', 'fake', 'fake', 'real', 'real', 'real', 'fake', 'real', 'fake', 'real', 'fake']\n",
      "[0.9834, 0.01785, 0.007935, 0.037, 0.9824, 0.03662, 0.488, 0.9854, 0.01037, 0.02759, 0.01099, 0.364, 0.2761, 0.03897, 0.0189, 0.4841, 0.01607, 0.1418, 0.01666, 0.013954, 0.472, 0.01971, 0.07947, 0.0336, 0.014786, 0.0786, 0.008644, 0.01095, 0.0575, 0.6304, 0.9893, 0.25, 0.00986, 0.01229, 0.9854, 0.984, 0.444, 0.642, 0.02328, 0.03223, 0.6045, 0.3818, 0.8555, 0.01859, 0.02254, 0.01616, 0.01129, 0.00693, 0.75, 0.00669, 0.1239, 0.009056, 0.9834, 0.0354, 0.0924, 0.02034, 0.1198, 0.0898, 0.99, 0.01095, 0.9897, 0.2024, 0.01554, 0.0145, 0.00927, 0.00993, 0.4814, 0.02806, 0.8916, 0.9634, 0.979, 0.953, 0.02069, 0.03726, 0.983, 0.00861, 0.00729, 0.2162, 0.6416, 0.008125, 0.006027, 0.981, 0.981, 0.09644, 0.01277, 0.01029, 0.02591, 0.98, 0.03482, 0.0093, 0.2222, 0.00997, 0.708, 0.00784, 0.9214, 0.0386, 0.02017, 0.00952, 0.3303, 0.9814, 0.01904, 0.011505, 0.01456, 0.03534, 0.988, 0.0196, 0.1912, 0.389, 0.0511, 0.961, 0.00909, 0.9727, 0.01363, 0.01428, 0.5024, 0.976, 0.01307, 0.3333, 0.00835, 0.955, 0.992, 0.879, 0.0107, 0.0635, 0.948, 0.965, 0.1486, 0.00878, 0.9854, 0.983, 0.1774, 0.01692, 0.007965, 0.00978, 0.005447, 0.3982, 0.012825, 0.949, 0.00752, 0.933, 0.931, 0.05167, 0.908, 0.974, 0.2698, 0.9624, 0.4023, 0.48, 0.899, 0.0109, 0.089, 0.629, 0.9883, 0.00878, 0.02121, 0.2394, 0.4907, 0.8735, 0.007996, 0.7695, 0.967, 0.974, 0.2534, 0.0159, 0.07965, 0.01099, 0.1174, 0.006958, 0.709, 0.9883, 0.00952, 0.06995, 0.9917, 0.0267, 0.762, 0.97, 0.1422, 0.83, 0.946, 0.01045, 0.02785, 0.6855, 0.006264, 0.0109, 0.871, 0.01129, 0.012825, 0.956, 0.06573, 0.3643, 0.6655, 0.136, 0.446, 0.0237, 0.00755, 0.012825, 0.9893, 0.9785, 0.00993, 0.015, 0.01243, 0.843, 0.01901, 0.1364, 0.00919, 0.03522, 0.02493, 0.992, 0.86, 0.08344, 0.006958, 0.03906, 0.00715, 0.949, 0.0109, 0.9766, 0.009674, 0.04544, 0.0116, 0.8535, 0.007122, 0.005936, 0.03748, 0.02225, 0.02077, 0.007206, 0.00892, 0.013374, 0.008575, 0.00997, 0.99, 0.985, 0.9814, 0.9287, 0.5835, 0.054, 0.988, 0.04477, 0.5444, 0.0868, 0.008255, 0.01263, 0.011734, 0.02596, 0.02686, 0.02342, 0.02866, 0.01053, 0.11127, 0.02077, 0.02258, 0.02307, 0.006413, 0.9688, 0.37, 0.00819, 0.01029, 0.12213, 0.02045, 0.9736, 0.01666, 0.9746, 0.0109, 0.2478, 0.006905, 0.1804, 0.01942, 0.00746, 0.9917, 0.989, 0.0145, 0.1984, 0.9883, 0.95, 0.00895, 0.99, 0.945, 0.02702, 0.02419, 0.006958, 0.06866, 0.00885, 0.03986, 0.0484, 0.013535, 0.04257, 0.00881, 0.00934, 0.00649, 0.9917, 0.007404, 0.01423, 0.03021, 0.008675, 0.00701, 0.955, 0.02307, 0.02084, 0.01473, 0.2323, 0.00822, 0.00874, 0.01017, 0.07135, 0.631, 0.724, 0.02002, 0.0329, 0.6484, 0.1204, 0.00909, 0.00743, 0.0818, 0.7983, 0.9907, 0.01302, 0.3691, 0.01698, 0.00755, 0.005936, 0.99, 0.0093, 0.01666, 0.01099, 0.1082, 0.01385, 0.658, 0.273, 0.9736, 0.02121, 0.02434, 0.98, 0.007317, 0.6167, 0.03656, 0.006958, 0.989, 0.07654, 0.008286, 0.01322, 0.0058, 0.967, 0.006218, 0.00715, 0.99, 0.006878, 0.01439, 0.0612, 0.06793, 0.988, 0.02151, 0.6226, 0.014175, 0.01129, 0.866, 0.00899, 0.01968, 0.008, 0.00899, 0.926, 0.81, 0.2786, 0.01053, 0.01456, 0.00916, 0.977, 0.02666, 0.9478, 0.951, 0.84, 0.9805, 0.008415, 0.973, 0.3767, 0.989, 0.01086, 0.007607, 0.0327, 0.9614, 0.00927, 0.024, 0.006905, 0.00902, 0.915, 0.0184, 0.963, 0.04385, 0.01049, 0.9824, 0.007812, 0.979, 0.1714, 0.356, 0.9883, 0.5083, 0.2695, 0.0301, 0.02713, 0.9443, 0.9604, 0.04742, 0.10016, 0.1122, 0.00971, 0.951, 0.7334, 0.01164, 0.00749, 0.007812, 0.007965, 0.02293, 0.8247, 0.1947, 0.00892, 0.00948, 0.015366, 0.006958, 0.9766, 0.01924, 0.972, 0.1721, 0.4436, 0.9824, 0.7246, 0.01095, 0.006565, 0.463, 0.01187, 0.00749, 0.013954, 0.01033, 0.4248, 0.008, 0.01248, 0.846, 0.1005, 0.8184, 0.956, 0.01138, 0.986, 0.9897, 0.6147, 0.991, 0.00704, 0.0112, 0.5674, 0.0145, 0.614, 0.941, 0.011246, 0.4983, 0.06097, 0.1708, 0.3486, 0.4712, 0.9927, 0.00997, 0.0159, 0.011505, 0.008644, 0.00729, 0.007786, 0.395, 0.3481, 0.986, 0.99, 0.5786, 0.01302, 0.9644, 0.01968, 0.2184, 0.02356, 0.01219, 0.014336, 0.9883, 0.01029, 0.971, 0.9893, 0.1466, 0.9463, 0.874, 0.9863, 0.4314, 0.01187, 0.0149, 0.4348, 0.00934, 0.04337, 0.006123, 0.007904, 0.00746, 0.01369, 0.03802, 0.00916, 0.02676, 0.4746, 0.1214, 0.3809, 0.01065, 0.9795, 0.4915, 0.983, 0.9697, 0.9453, 0.00878, 0.009056, 0.00956, 0.987, 0.9854, 0.3047, 0.8574, 0.9487, 0.02571, 0.01248, 0.989, 0.0096, 0.9736, 0.85, 0.007206, 0.927, 0.013794, 0.007904, 0.8105, 0.01129, 0.5615, 0.00634, 0.5166, 0.008156, 0.01196, 0.02626, 0.86, 0.9087, 0.01888, 0.008644, 0.007935, 0.008064, 0.788, 0.0611, 0.03912, 0.03085, 0.9707, 0.0734, 0.00923, 0.01456, 0.868, 0.007725, 0.05145, 0.05844, 0.010735, 0.98, 0.05936, 0.01224, 0.985, 0.736, 0.055, 0.02522, 0.00978, 0.59, 0.02925, 0.9824, 0.539, 0.985, 0.04092, 0.01634, 0.9277, 0.4836, 0.02556, 0.9893, 0.00803, 0.95, 0.01484, 0.011505, 0.01666, 0.6294, 0.01423, 0.9897, 0.9863, 0.9663, 0.9697, 0.04062, 0.00974, 0.975, 0.03488, 0.9824, 0.9653, 0.02097, 0.931, 0.03818, 0.99, 0.7393, 0.1265, 0.98, 0.9927, 0.01049, 0.01053, 0.0161, 0.006668, 0.00948, 0.05292, 0.987, 0.03574, 0.02284, 0.04742, 0.007607, 0.7456, 0.1935, 0.6875, 0.04047, 0.3118, 0.991, 0.0248, 0.006264, 0.01816, 0.02686, 0.9204, 0.008286, 0.00518, 0.01646, 0.9814, 0.9917, 0.01359, 0.988, 0.02562, 0.007935, 0.4187, 0.9595, 0.01107, 0.01406, 0.00897, 0.9893, 0.9595, 0.02522, 0.9175, 0.978, 0.04083, 0.00617, 0.9897, 0.0109, 0.012726, 0.01049, 0.00952, 0.01013, 0.00945, 0.17, 0.008675, 0.01519, 0.00835, 0.835, 0.02174, 0.3513, 0.00956, 0.986, 0.04822, 0.1327, 0.011116, 0.9785, 0.3042, 0.05194, 0.02686, 0.9844, 0.2203, 0.9917, 0.8477, 0.651, 0.2433, 0.9897, 0.9434, 0.379, 0.01302, 0.00787, 0.991, 0.00729, 0.2979, 0.00838, 0.03943, 0.0164, 0.01411, 0.01572, 0.007206, 0.118, 0.0367, 0.01155, 0.02121, 0.8975, 0.02711, 0.9854, 0.84, 0.00848, 0.00993, 0.988, 0.00704, 0.00752, 0.00871, 0.008644, 0.9644, 0.007095, 0.9404, 0.006878, 0.0672, 0.02145, 0.008675, 0.5293, 0.04553, 0.992, 0.8926, 0.947, 0.0541, 0.011375, 0.005913, 0.99, 0.9917, 0.9194, 0.1749, 0.3352, 0.007206, 0.992, 0.04904, 0.005844, 0.01033, 0.99, 0.0792, 0.4287, 0.01041, 0.02022, 0.894, 0.9907, 0.00835, 0.0195, 0.00978, 0.04443, 0.02148, 0.0806, 0.3125, 0.006565, 0.992, 0.01086, 0.00518, 0.03845, 0.501, 0.908, 0.9717, 0.987, 0.9707, 0.04153, 0.01718, 0.01317, 0.8726, 0.00619, 0.98, 0.915, 0.02007, 0.008675, 0.008575, 0.04468, 0.9844, 0.8296, 0.007404, 0.1069, 0.1047, 0.005577, 0.01984, 0.961, 0.642, 0.9194, 0.4998, 0.4995, 0.98, 0.9336, 0.03397, 0.5, 0.5063, 0.0551, 0.05814, 0.00619, 0.00861, 0.9834, 0.01628, 0.2235, 0.03955, 0.989, 0.02293, 0.01848, 0.01147, 0.00822, 0.03732, 0.6045, 0.9727, 0.01445, 0.9844, 0.7505, 0.9766, 0.02759, 0.9897, 0.03253, 0.01549, 0.00787, 0.977, 0.2822, 0.05835, 0.2922, 0.5015, 0.006824, 0.007786, 0.011116, 0.5815, 0.01964, 0.5103, 0.007206, 0.1326, 0.006615, 0.9736, 0.5005, 0.007233, 0.457, 0.01752, 0.2399, 0.9697, 0.05655, 0.011375, 0.9756, 0.00916, 0.02737, 0.006878, 0.9907, 0.04486, 0.02661, 0.02065, 0.2864, 0.952, 0.01243, 0.011246, 0.01243, 0.04596, 0.01752, 0.006958, 0.4963, 0.09875, 0.01078, 0.9214, 0.02307, 0.7397, 0.2212, 0.05624, 0.934, 0.01513, 0.851, 0.00916, 0.00902, 0.0267, 0.9487, 0.00938, 0.00649, 0.0156, 0.3376, 0.00693, 0.01888, 0.9814, 0.0323, 0.00669, 0.01201, 0.7563, 0.878, 0.9463, 0.991, 0.02237, 0.007904, 0.3315, 0.02509, 0.00861, 0.04443, 0.0714, 0.9873, 0.00573, 0.9683, 0.1444, 0.986, 0.0173, 0.0145, 0.00749, 0.03284, 0.03964, 0.007725, 0.00892, 0.2563, 0.01543, 0.2488, 0.01964, 0.0323, 0.0888, 0.04803, 0.01862, 0.007935, 0.3, 0.00982, 0.9917, 0.006878, 0.01029, 0.03906, 0.4294, 0.01572, 0.00861, 0.01678, 0.2703, 0.9766, 0.01704, 0.01718, 0.99, 0.0324, 0.4912, 0.4749, 0.02737, 0.9575, 0.01672, 0.05878, 0.8687, 0.1045, 0.992, 0.00997, 0.02391, 0.6978, 0.01485, 0.1298, 0.006096, 0.009636, 0.04794, 0.006462, 0.1398, 0.01224, 0.01049, 0.642, 0.009056, 0.0547, 0.00639, 0.01033, 0.07587, 0.1114, 0.00639, 0.00938, 0.00749, 0.011826, 0.00881, 0.008255, 0.7407, 0.9917, 0.9707, 0.4966, 0.9834, 0.839, 0.04047, 0.00978, 0.876, 0.589, 0.01045, 0.00784, 0.03278, 0.05933, 0.02208, 0.075, 0.01672, 0.010735, 0.008514, 0.006905, 0.583, 0.01307, 0.1581, 0.3792, 0.987, 0.008545, 0.9854, 0.4792, 0.00749, 0.01348, 0.006413, 0.9517, 0.00885, 0.013374, 0.2034, 0.916, 0.1499, 0.00874, 0.982, 0.01248, 0.05975, 0.9194, 0.01698, 0.01772, 0.01718, 0.1609, 0.632, 0.9814, 0.989, 0.989, 0.006718, 0.03796, 0.1437, 0.971, 0.0436, 0.982, 0.00819, 0.9834]\n"
     ]
    }
   ],
   "source": [
    "print(file_name)\n",
    "print(label)\n",
    "print(prob)"
   ]
  },
  {
   "cell_type": "code",
   "execution_count": 5,
   "id": "75dfee46",
   "metadata": {},
   "outputs": [],
   "source": [
    "import pandas as pd\n",
    "a = pd.DataFrame()"
   ]
  },
  {
   "cell_type": "code",
   "execution_count": 6,
   "id": "a70877db",
   "metadata": {},
   "outputs": [
    {
     "data": {
      "text/html": [
       "<div>\n",
       "<style scoped>\n",
       "    .dataframe tbody tr th:only-of-type {\n",
       "        vertical-align: middle;\n",
       "    }\n",
       "\n",
       "    .dataframe tbody tr th {\n",
       "        vertical-align: top;\n",
       "    }\n",
       "\n",
       "    .dataframe thead th {\n",
       "        text-align: right;\n",
       "    }\n",
       "</style>\n",
       "<table border=\"1\" class=\"dataframe\">\n",
       "  <thead>\n",
       "    <tr style=\"text-align: right;\">\n",
       "      <th></th>\n",
       "      <th>file_name</th>\n",
       "      <th>label</th>\n",
       "      <th>score</th>\n",
       "    </tr>\n",
       "  </thead>\n",
       "  <tbody>\n",
       "    <tr>\n",
       "      <th>0</th>\n",
       "      <td>0000.png</td>\n",
       "      <td>fake</td>\n",
       "      <td>0.983398</td>\n",
       "    </tr>\n",
       "    <tr>\n",
       "      <th>1</th>\n",
       "      <td>0001.png</td>\n",
       "      <td>real</td>\n",
       "      <td>0.017853</td>\n",
       "    </tr>\n",
       "    <tr>\n",
       "      <th>2</th>\n",
       "      <td>0002.png</td>\n",
       "      <td>real</td>\n",
       "      <td>0.007935</td>\n",
       "    </tr>\n",
       "    <tr>\n",
       "      <th>3</th>\n",
       "      <td>0003.png</td>\n",
       "      <td>real</td>\n",
       "      <td>0.036987</td>\n",
       "    </tr>\n",
       "    <tr>\n",
       "      <th>4</th>\n",
       "      <td>0004.png</td>\n",
       "      <td>fake</td>\n",
       "      <td>0.982422</td>\n",
       "    </tr>\n",
       "    <tr>\n",
       "      <th>...</th>\n",
       "      <td>...</td>\n",
       "      <td>...</td>\n",
       "      <td>...</td>\n",
       "    </tr>\n",
       "    <tr>\n",
       "      <th>995</th>\n",
       "      <td>0995.png</td>\n",
       "      <td>fake</td>\n",
       "      <td>0.971191</td>\n",
       "    </tr>\n",
       "    <tr>\n",
       "      <th>996</th>\n",
       "      <td>0996.png</td>\n",
       "      <td>real</td>\n",
       "      <td>0.043610</td>\n",
       "    </tr>\n",
       "    <tr>\n",
       "      <th>997</th>\n",
       "      <td>0997.png</td>\n",
       "      <td>fake</td>\n",
       "      <td>0.981934</td>\n",
       "    </tr>\n",
       "    <tr>\n",
       "      <th>998</th>\n",
       "      <td>0998.png</td>\n",
       "      <td>real</td>\n",
       "      <td>0.008186</td>\n",
       "    </tr>\n",
       "    <tr>\n",
       "      <th>999</th>\n",
       "      <td>0999.png</td>\n",
       "      <td>fake</td>\n",
       "      <td>0.983398</td>\n",
       "    </tr>\n",
       "  </tbody>\n",
       "</table>\n",
       "<p>1000 rows × 3 columns</p>\n",
       "</div>"
      ],
      "text/plain": [
       "    file_name label     score\n",
       "0    0000.png  fake  0.983398\n",
       "1    0001.png  real  0.017853\n",
       "2    0002.png  real  0.007935\n",
       "3    0003.png  real  0.036987\n",
       "4    0004.png  fake  0.982422\n",
       "..        ...   ...       ...\n",
       "995  0995.png  fake  0.971191\n",
       "996  0996.png  real  0.043610\n",
       "997  0997.png  fake  0.981934\n",
       "998  0998.png  real  0.008186\n",
       "999  0999.png  fake  0.983398\n",
       "\n",
       "[1000 rows x 3 columns]"
      ]
     },
     "execution_count": 6,
     "metadata": {},
     "output_type": "execute_result"
    }
   ],
   "source": [
    "a['file_name'] = file_name\n",
    "a['label'] = label\n",
    "a['score'] = prob\n",
    "a"
   ]
  },
  {
   "cell_type": "code",
   "execution_count": 7,
   "id": "a6db2af2",
   "metadata": {},
   "outputs": [
    {
     "name": "stdout",
     "output_type": "stream",
     "text": [
      "       file_name  score\n",
      "label                  \n",
      "fake         311    311\n",
      "real         689    689\n"
     ]
    }
   ],
   "source": [
    "freq = a.groupby(['label']).count()\n",
    "print(freq)"
   ]
  },
  {
   "cell_type": "code",
   "execution_count": 8,
   "id": "f82b7e15",
   "metadata": {},
   "outputs": [],
   "source": [
    "detector = MTCNN(margin=0, thresholds=[0.7, 0.8, 0.8], device=cuda)\n",
    "model = DeepFakeClassifierWithViT(encoder=\"deit_base_patch16_384\").to(cuda)\n",
    "checkpoint = torch.load(\"weights/deitb_384_1\")\n",
    "state_dict = checkpoint.get(\"state_dict\", checkpoint)\n",
    "model.load_state_dict({re.sub(\"^module.\", \"\", k): v for k, v in state_dict.items()}, strict=False)\n",
    "model.eval()\n",
    "#model = model.half()\n",
    "del checkpoint"
   ]
  },
  {
   "cell_type": "code",
   "execution_count": 9,
   "id": "02ab2dd0",
   "metadata": {},
   "outputs": [
    {
     "name": "stdout",
     "output_type": "stream",
     "text": [
      "0 of 1000\n",
      "100 of 1000\n",
      "200 of 1000\n",
      "300 of 1000\n",
      "400 of 1000\n",
      "500 of 1000\n",
      "600 of 1000\n",
      "700 of 1000\n",
      "800 of 1000\n",
      "900 of 1000\n"
     ]
    }
   ],
   "source": [
    "img_path_list = sorted(glob.glob('../../faceforensics_benchmark_images/*.png'))\n",
    "file_name = []\n",
    "prob = []\n",
    "label = []\n",
    "\n",
    "with torch.no_grad():\n",
    "    n = 0\n",
    "    for i, img_path in enumerate(img_path_list):\n",
    "        if i % 100 == 0:\n",
    "            print(f\"{i} of 1000\")\n",
    "        img = Image.open(img_path)\n",
    "        frame = np.array(img)\n",
    "        img = img.resize(size=[s // 2 for s in img.size])\n",
    "\n",
    "        batch_boxes, probs = detector.detect(img, landmarks=False)\n",
    "        if batch_boxes is None:\n",
    "            file_name.append(img_path.split('/')[-1])\n",
    "            prob.append(0.5)\n",
    "            label.append('real')\n",
    "            continue\n",
    "\n",
    "        faces = []\n",
    "        scores = []\n",
    "\n",
    "        for bbox, score in zip(batch_boxes, probs):\n",
    "            if bbox is not None:\n",
    "                xmin, ymin, xmax, ymax = [int(b * 2) for b in bbox]\n",
    "                w = xmax - xmin\n",
    "                h = ymax - ymin\n",
    "                p_h = h // 3\n",
    "                p_w = w // 3\n",
    "                crop = frame[max(ymin - p_h, 0):ymax + p_h, max(xmin - p_w, 0):xmax + p_w]\n",
    "                faces.append(crop)\n",
    "                scores.append(score)\n",
    "\n",
    "        batch_size=len(faces)\n",
    "        input_size=384\n",
    "        x = np.zeros((batch_size,input_size,input_size, 3), dtype=np.uint8)\n",
    "        #print(x.shape)\n",
    "        n = 0\n",
    "        for face in faces:\n",
    "            resized_face = isotropically_resize_image(face, input_size)\n",
    "            resized_face = put_to_center(resized_face, input_size)\n",
    "            x[n] = resized_face\n",
    "            n += 1\n",
    "\n",
    "        x = torch.tensor(x, device=cuda).float()\n",
    "\n",
    "        x = x.permute((0, 3, 1, 2))\n",
    "        for i in range(len(x)):\n",
    "            x[i] = normalize_transform(x[i] / 255.)\n",
    "        #print(x.shape)\n",
    "        y_pred = model(x)\n",
    "        y_pred = torch.sigmoid(y_pred.squeeze())\n",
    "        y_pred = y_pred.cpu().numpy()\n",
    "        y_pred = y_pred.mean()\n",
    "        file_name.append(img_path.split('/')[-1])\n",
    "        prob.append(y_pred)\n",
    "        if(y_pred >= 0.5):\n",
    "            label.append('fake')\n",
    "        else:\n",
    "            label.append('real')"
   ]
  },
  {
   "cell_type": "code",
   "execution_count": 10,
   "id": "d0e89ac2",
   "metadata": {},
   "outputs": [
    {
     "data": {
      "text/html": [
       "<div>\n",
       "<style scoped>\n",
       "    .dataframe tbody tr th:only-of-type {\n",
       "        vertical-align: middle;\n",
       "    }\n",
       "\n",
       "    .dataframe tbody tr th {\n",
       "        vertical-align: top;\n",
       "    }\n",
       "\n",
       "    .dataframe thead th {\n",
       "        text-align: right;\n",
       "    }\n",
       "</style>\n",
       "<table border=\"1\" class=\"dataframe\">\n",
       "  <thead>\n",
       "    <tr style=\"text-align: right;\">\n",
       "      <th></th>\n",
       "      <th>file_name</th>\n",
       "      <th>label</th>\n",
       "      <th>score</th>\n",
       "    </tr>\n",
       "  </thead>\n",
       "  <tbody>\n",
       "    <tr>\n",
       "      <th>0</th>\n",
       "      <td>0000.png</td>\n",
       "      <td>real</td>\n",
       "      <td>0.468024</td>\n",
       "    </tr>\n",
       "    <tr>\n",
       "      <th>1</th>\n",
       "      <td>0001.png</td>\n",
       "      <td>real</td>\n",
       "      <td>0.007693</td>\n",
       "    </tr>\n",
       "    <tr>\n",
       "      <th>2</th>\n",
       "      <td>0002.png</td>\n",
       "      <td>real</td>\n",
       "      <td>0.011367</td>\n",
       "    </tr>\n",
       "    <tr>\n",
       "      <th>3</th>\n",
       "      <td>0003.png</td>\n",
       "      <td>real</td>\n",
       "      <td>0.013138</td>\n",
       "    </tr>\n",
       "    <tr>\n",
       "      <th>4</th>\n",
       "      <td>0004.png</td>\n",
       "      <td>fake</td>\n",
       "      <td>0.980663</td>\n",
       "    </tr>\n",
       "    <tr>\n",
       "      <th>...</th>\n",
       "      <td>...</td>\n",
       "      <td>...</td>\n",
       "      <td>...</td>\n",
       "    </tr>\n",
       "    <tr>\n",
       "      <th>995</th>\n",
       "      <td>0995.png</td>\n",
       "      <td>fake</td>\n",
       "      <td>0.991924</td>\n",
       "    </tr>\n",
       "    <tr>\n",
       "      <th>996</th>\n",
       "      <td>0996.png</td>\n",
       "      <td>fake</td>\n",
       "      <td>0.979821</td>\n",
       "    </tr>\n",
       "    <tr>\n",
       "      <th>997</th>\n",
       "      <td>0997.png</td>\n",
       "      <td>fake</td>\n",
       "      <td>0.987997</td>\n",
       "    </tr>\n",
       "    <tr>\n",
       "      <th>998</th>\n",
       "      <td>0998.png</td>\n",
       "      <td>real</td>\n",
       "      <td>0.027533</td>\n",
       "    </tr>\n",
       "    <tr>\n",
       "      <th>999</th>\n",
       "      <td>0999.png</td>\n",
       "      <td>real</td>\n",
       "      <td>0.016300</td>\n",
       "    </tr>\n",
       "  </tbody>\n",
       "</table>\n",
       "<p>1000 rows × 3 columns</p>\n",
       "</div>"
      ],
      "text/plain": [
       "    file_name label     score\n",
       "0    0000.png  real  0.468024\n",
       "1    0001.png  real  0.007693\n",
       "2    0002.png  real  0.011367\n",
       "3    0003.png  real  0.013138\n",
       "4    0004.png  fake  0.980663\n",
       "..        ...   ...       ...\n",
       "995  0995.png  fake  0.991924\n",
       "996  0996.png  fake  0.979821\n",
       "997  0997.png  fake  0.987997\n",
       "998  0998.png  real  0.027533\n",
       "999  0999.png  real  0.016300\n",
       "\n",
       "[1000 rows x 3 columns]"
      ]
     },
     "execution_count": 10,
     "metadata": {},
     "output_type": "execute_result"
    }
   ],
   "source": [
    "b = pd.DataFrame()\n",
    "b['file_name'] = file_name\n",
    "b['label'] = label\n",
    "b['score'] = prob\n",
    "b"
   ]
  },
  {
   "cell_type": "code",
   "execution_count": 11,
   "id": "56eac534",
   "metadata": {},
   "outputs": [
    {
     "name": "stdout",
     "output_type": "stream",
     "text": [
      "       file_name  score\n",
      "label                  \n",
      "fake         370    370\n",
      "real         630    630\n"
     ]
    }
   ],
   "source": [
    "freq = b.groupby(['label']).count()\n",
    "print(freq)"
   ]
  },
  {
   "cell_type": "code",
   "execution_count": 12,
   "id": "acc89ed1",
   "metadata": {},
   "outputs": [],
   "source": [
    "result = dict()"
   ]
  },
  {
   "cell_type": "code",
   "execution_count": 13,
   "id": "96aa064b",
   "metadata": {},
   "outputs": [],
   "source": [
    "for i in range(len(file_name)):\n",
    "    result[file_name[i]] = label[i]"
   ]
  },
  {
   "cell_type": "code",
   "execution_count": 14,
   "id": "fdb24bd9",
   "metadata": {},
   "outputs": [
    {
     "name": "stdout",
     "output_type": "stream",
     "text": [
      "    file_name label     score\n",
      "0    0000.png  fake  0.983398\n",
      "1    0001.png  real  0.017853\n",
      "2    0002.png  real  0.007935\n",
      "3    0003.png  real  0.036987\n",
      "4    0004.png  fake  0.982422\n",
      "..        ...   ...       ...\n",
      "995  0995.png  fake  0.971191\n",
      "996  0996.png  real  0.043610\n",
      "997  0997.png  fake  0.981934\n",
      "998  0998.png  real  0.008186\n",
      "999  0999.png  fake  0.983398\n",
      "\n",
      "[1000 rows x 3 columns]\n"
     ]
    }
   ],
   "source": [
    "print(a)"
   ]
  },
  {
   "cell_type": "code",
   "execution_count": 15,
   "id": "9bf68e30",
   "metadata": {},
   "outputs": [],
   "source": [
    "import json\n",
    "with open(\"benchmark_deit.json\", \"w\") as outfile:\n",
    "    json.dump(result,outfile)"
   ]
  },
  {
   "cell_type": "code",
   "execution_count": 16,
   "id": "7be9aa3d",
   "metadata": {},
   "outputs": [],
   "source": [
    "c = pd.DataFrame()"
   ]
  },
  {
   "cell_type": "code",
   "execution_count": 17,
   "id": "567d2e5b",
   "metadata": {},
   "outputs": [
    {
     "name": "stdout",
     "output_type": "stream",
     "text": [
      "0.5927679952523233\n",
      "0.4895482253187058\n",
      "0.5476846636739672\n",
      "0.4523153363260329\n"
     ]
    }
   ],
   "source": [
    "import math\n",
    "p = 0.644\n",
    "w = math.log(p/(1-p))\n",
    "print(w)\n",
    "p2 = 0.620\n",
    "w2 = math.log(p2/(1-p2))\n",
    "print(w2)\n",
    "r_w = w/(w+w2)*1\n",
    "r_w2 = w2/(w+w2)*1\n",
    "print(r_w)\n",
    "print(r_w2)"
   ]
  },
  {
   "cell_type": "code",
   "execution_count": 69,
   "id": "f0ad007c",
   "metadata": {},
   "outputs": [
    {
     "name": "stdout",
     "output_type": "stream",
     "text": [
      "0.5580446957033814\n",
      "1.6287621852605028\n",
      "0.28070570411007295\n",
      "0.8192942958899271\n"
     ]
    }
   ],
   "source": [
    "import math\n",
    "p = 0.636\n",
    "w = math.log(p/(1-p))\n",
    "print(w)\n",
    "p2 = 0.836\n",
    "w2 = math.log(p2/(1-p2))\n",
    "print(w2)\n",
    "r_w = w/(w+w2)\n",
    "r_w2 = w2/(w+w2)\n",
    "print(r_w)\n",
    "print(r_w2)"
   ]
  },
  {
   "cell_type": "code",
   "execution_count": null,
   "id": "a7ed42a1",
   "metadata": {},
   "outputs": [],
   "source": []
  },
  {
   "cell_type": "code",
   "execution_count": 70,
   "id": "04b9f86f",
   "metadata": {},
   "outputs": [],
   "source": [
    "c['file_name'] = a['file_name']\n",
    "c['score'] = a['score'] *r_w + b['score'] * r_w2"
   ]
  },
  {
   "cell_type": "code",
   "execution_count": 71,
   "id": "ae9dbfa8",
   "metadata": {},
   "outputs": [],
   "source": [
    "ensembled_label = []\n",
    "for i in c['score']:\n",
    "    if i > 0.5:\n",
    "        ensembled_label.append('fake')\n",
    "    else:\n",
    "        ensembled_label.append('real')"
   ]
  },
  {
   "cell_type": "code",
   "execution_count": 72,
   "id": "d538d6da",
   "metadata": {},
   "outputs": [
    {
     "data": {
      "text/plain": [
       "1000"
      ]
     },
     "execution_count": 72,
     "metadata": {},
     "output_type": "execute_result"
    }
   ],
   "source": [
    "len(ensembled_label)"
   ]
  },
  {
   "cell_type": "code",
   "execution_count": 73,
   "id": "a12a32ac",
   "metadata": {},
   "outputs": [],
   "source": [
    "ensembled_result = dict()"
   ]
  },
  {
   "cell_type": "code",
   "execution_count": 74,
   "id": "ac036559",
   "metadata": {},
   "outputs": [],
   "source": [
    "for i in range(len(file_name)):\n",
    "    ensembled_result[file_name[i]] = ensembled_label[i]"
   ]
  },
  {
   "cell_type": "code",
   "execution_count": 75,
   "id": "47fd8dde",
   "metadata": {},
   "outputs": [],
   "source": [
    "with open(\"benchmark_ensembled3.json\", \"w\") as outfile:\n",
    "    json.dump(ensembled_result,outfile)"
   ]
  },
  {
   "cell_type": "code",
   "execution_count": null,
   "id": "f2b637d1",
   "metadata": {},
   "outputs": [],
   "source": []
  }
 ],
 "metadata": {
  "kernelspec": {
   "display_name": "Python 3",
   "language": "python",
   "name": "python3"
  },
  "language_info": {
   "codemirror_mode": {
    "name": "ipython",
    "version": 3
   },
   "file_extension": ".py",
   "mimetype": "text/x-python",
   "name": "python",
   "nbconvert_exporter": "python",
   "pygments_lexer": "ipython3",
   "version": "3.8.10"
  }
 },
 "nbformat": 4,
 "nbformat_minor": 5
}
