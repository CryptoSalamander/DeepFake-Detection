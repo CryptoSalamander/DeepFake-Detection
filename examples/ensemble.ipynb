{
 "cells": [
  {
   "cell_type": "code",
   "execution_count": 1,
   "id": "604c467b",
   "metadata": {},
   "outputs": [],
   "source": [
    "import csv\n",
    "import pandas as pd"
   ]
  },
  {
   "cell_type": "code",
   "execution_count": 3,
   "id": "2cd745f6",
   "metadata": {},
   "outputs": [],
   "source": [
    "b7_best = pd.read_csv(\"B7_600_BEST.csv\")\n",
    "b7_1 = pd.read_csv(\"B7_600_1.csv\")\n",
    "resnest = pd.read_csv(\"resnest269.csv\")\n",
    "deitb_1 = pd.read_csv(\"deitb_384_1.csv\")\n",
    "deitb_2 = pd.read_csv(\"deitb_384_2.csv\")\n",
    "effv2 = pd.read_csv(\"effv2m_in21ft1k.csv\")\n",
    "ensembled = pd.DataFrame()\n",
    "ensembled[\"filename\"] = b7_best[\"filename\"]"
   ]
  },
  {
   "cell_type": "markdown",
   "id": "5e5e0636",
   "metadata": {},
   "source": [
    "# Baseline Models"
   ]
  },
  {
   "cell_type": "raw",
   "id": "fc9637e5",
   "metadata": {},
   "source": [
    "===selimsef's===\n",
    "Accuracy \t 0.9880382775119617\n",
    "Precision\t 0.9867914532933074\n",
    "Recall\t\t 0.9987132287235944\n",
    "F1 Score\t 0.9927165494208768\n",
    "Fall-out\t 0.05937450388950627\n",
    "Log-Loss\t 0.04906856773748571\n",
    "\n",
    "===my selimsef's===\n",
    "Accuracy \t 0.9677864306445587\n",
    "Precision\t 0.9740088258799819\n",
    "Recall\t\t 0.9868680467539783\n",
    "F1 Score\t 0.9803962716191875\n",
    "Fall-out\t 0.11696637998436278\n",
    "Log-Loss\t 0.08573778766305971\n",
    "\n",
    "===ResNest269===\n",
    "Accuracy \t 0.963103448275862\n",
    "Precision\t 0.9660180681028492\n",
    "Recall\t\t 0.9891134196669987\n",
    "F1 Score\t 0.9774293348333568\n",
    "Fall-out\t 0.14614465032875074\n",
    "Log-Loss\t 0.09252599632243935\n",
    "\n",
    "===EfficientNet V1 B7_600_1===\n",
    "Accuracy \t 0.9638793103448275\n",
    "Precision\t 0.9711605281445448\n",
    "Recall\t\t 0.9849526024597385\n",
    "F1 Score\t 0.9780079430340991\n",
    "Fall-out\t 0.12922310446831697\n",
    "Log-Loss\t 0.10077457452603196\n",
    "\n",
    "===EfficientNet V1 B7_600_BEST===\n",
    "Accuracy \t 0.9715799475942296\n",
    "Precision\t 0.9754178272980502\n",
    "Recall\t\t 0.9900689167697473\n",
    "F1 Score\t 0.9826887661141804\n",
    "Fall-out\t 0.10972956170345043\n",
    "Log-Loss\t 0.08111477359464028\n",
    "\n",
    "===EfficientNet V2 Medium in21ft1k===\n",
    "Accuracy \t 0.8915827862873815\n",
    "Precision\t 0.8897757372417446\n",
    "Recall\t\t 0.976928147659855\n",
    "F1 Score\t 0.931317462664498\n",
    "Fall-out\t 0.36778222955456047\n",
    "Log-Loss\t 0.20929078705563134\n",
    "\n",
    "===DeiT Base 384 1===\n",
    "Accuracy \t 0.903778264040846\n",
    "Precision\t 0.8881825245461609\n",
    "Recall\t\t 0.9947784810126582\n",
    "F1 Score\t 0.9384632608127775\n",
    "Fall-out\t 0.3519733185102835\n",
    "Log-Loss\t 0.18767012461127555\n",
    "\n",
    "===DeiT Base 384 2===\n",
    "Accuracy \t 0.903034724248614\n",
    "Precision\t 0.8864672012434208\n",
    "Recall\t\t 0.9956752896365656\n",
    "F1 Score\t 0.9379029394726515\n",
    "Fall-out\t 0.35451136112949483\n",
    "Log-Loss\t 0.19585698259000298\n",
    "\n",
    "===my selimsef's===\n",
    "Accuracy \t 0.9677864306445587\n",
    "Precision\t 0.9740088258799819\n",
    "Recall\t\t 0.9868680467539783\n",
    "F1 Score\t 0.9803962716191875\n",
    "Fall-out\t 0.11696637998436278\n",
    "Log-Loss\t 0.08573778766305971"
   ]
  },
  {
   "cell_type": "markdown",
   "id": "056df2ea",
   "metadata": {},
   "source": [
    "# Try #1 (B7_BEST + B7_1 + RESNEST)"
   ]
  },
  {
   "cell_type": "code",
   "execution_count": 14,
   "id": "124f3196",
   "metadata": {},
   "outputs": [],
   "source": [
    "# b7_best = pd.read_csv(\"B7_600_BEST.csv\")\n",
    "# b7_1 = pd.read_csv(\"B7_600_1.csv\")\n",
    "# resnest = pd.read_csv(\"resnest269.csv\")\n",
    "# deitb_1 = pd.read_csv(\"deitb_384_1.csv\")\n",
    "# deitb_2 = pd.read_csv(\"deitb_384_2.csv\")\n",
    "# effv2 = pd.read_csv(\"effv2m_in21ft1k.csv\")\n",
    "ensembled[\"label\"] = b7_best[\"label\"]*0.5 + b7_1[\"label\"]*0.2 + resnest[\"label\"]*0.3\n",
    "ensembled.to_csv(\"ensembled/1.csv\",index=False)"
   ]
  },
  {
   "cell_type": "code",
   "execution_count": 15,
   "id": "c5c2000c",
   "metadata": {},
   "outputs": [
    {
     "name": "stdout",
     "output_type": "stream",
     "text": [
      "Accuracy \t 0.9712643678160919\n",
      "Precision\t 0.9773801250868659\n",
      "Recall\t\t 0.9877449259077182\n",
      "F1 Score\t 0.9825351915889482\n",
      "Fall-out\t 0.10297374248655489\n",
      "Log-Loss\t 0.07956466454460039\n"
     ]
    }
   ],
   "source": [
    "!python ff_eval_single.py --fake-threshold 0.5 --real-threshold 0.5 --result-path \"ensembled/1.csv\" --answer-json \"../output.json\""
   ]
  },
  {
   "cell_type": "markdown",
   "id": "fd5897de",
   "metadata": {},
   "source": [
    "# Try #2 (B7_BEST + Deit1 + Deit2)"
   ]
  },
  {
   "cell_type": "code",
   "execution_count": 28,
   "id": "45f9e616",
   "metadata": {},
   "outputs": [],
   "source": [
    "ensembled[\"label\"] = b7_best[\"label\"]*0.7 + deitb_1[\"label\"]*0.15 + deitb_2[\"label\"]*0.15\n",
    "ensembled.to_csv(\"ensembled/2.csv\",index=False)"
   ]
  },
  {
   "cell_type": "code",
   "execution_count": 29,
   "id": "610115b6",
   "metadata": {},
   "outputs": [
    {
     "name": "stdout",
     "output_type": "stream",
     "text": [
      "Accuracy \t 0.9788823444907341\n",
      "Precision\t 0.9835325180655919\n",
      "Recall\t\t 0.9908648629729446\n",
      "F1 Score\t 0.9871850754075495\n",
      "Fall-out\t 0.07603464870067372\n",
      "Log-Loss\t 0.0927449000982771\n"
     ]
    }
   ],
   "source": [
    "!python ff_eval_single.py --fake-threshold 0.5 --real-threshold 0.5 --result-path \"ensembled/2.csv\" --answer-json \"../output.json\""
   ]
  },
  {
   "cell_type": "markdown",
   "id": "5b527655",
   "metadata": {},
   "source": [
    "# Try #3 (B7_BEST + Deit1)"
   ]
  },
  {
   "cell_type": "code",
   "execution_count": 59,
   "id": "728acca6",
   "metadata": {},
   "outputs": [],
   "source": [
    "ensembled[\"label\"] = b7_best[\"label\"]*0.5 + deitb_1[\"label\"]*0.5\n",
    "ensembled.to_csv(\"ensembled/3.csv\",index=False)"
   ]
  },
  {
   "cell_type": "code",
   "execution_count": 60,
   "id": "022da323",
   "metadata": {},
   "outputs": [
    {
     "name": "stdout",
     "output_type": "stream",
     "text": [
      "Accuracy \t 0.9811521333141789\n",
      "Precision\t 0.9821428571428571\n",
      "Recall\t\t 0.9950021117837533\n",
      "F1 Score\t 0.9885306664801734\n",
      "Fall-out\t 0.08040043797903958\n",
      "Log-Loss\t 0.10739265202607634\n"
     ]
    }
   ],
   "source": [
    "!python ff_eval_single.py --fake-threshold 0.5 --real-threshold 0.5 --result-path \"ensembled/3.csv\" --answer-json \"../output.json\""
   ]
  },
  {
   "cell_type": "markdown",
   "id": "46947b94",
   "metadata": {},
   "source": [
    "# Try #4 (B7_BEST + ResNest + Deit1)"
   ]
  },
  {
   "cell_type": "code",
   "execution_count": 62,
   "id": "6fa8ca55",
   "metadata": {},
   "outputs": [],
   "source": [
    "ensembled[\"label\"] = b7_best[\"label\"]*0.4 + resnest[\"label\"] *0.3 + deitb_1[\"label\"]*0.3\n",
    "ensembled.to_csv(\"ensembled/4.csv\",index=False)"
   ]
  },
  {
   "cell_type": "code",
   "execution_count": 63,
   "id": "ba59441b",
   "metadata": {},
   "outputs": [
    {
     "name": "stdout",
     "output_type": "stream",
     "text": [
      "Accuracy \t 0.980663697744577\n",
      "Precision\t 0.9855475264035576\n",
      "Recall\t\t 0.9910218340611354\n",
      "F1 Score\t 0.9882770994095003\n",
      "Fall-out\t 0.06731391585760518\n",
      "Log-Loss\t 0.09082394262971957\n"
     ]
    }
   ],
   "source": [
    "!python ff_eval_single.py --fake-threshold 0.5 --real-threshold 0.5 --result-path \"ensembled/4.csv\" --answer-json \"../output.json\""
   ]
  },
  {
   "cell_type": "markdown",
   "id": "83ec0d1a",
   "metadata": {},
   "source": [
    "# Try #5 (Resnest + Deit1)"
   ]
  },
  {
   "cell_type": "code",
   "execution_count": 74,
   "id": "446c67a1",
   "metadata": {},
   "outputs": [],
   "source": [
    "ensembled[\"label\"] = resnest[\"label\"]*0.65 + deitb_1[\"label\"]*0.35\n",
    "ensembled.to_csv(\"ensembled/5.csv\",index=False)"
   ]
  },
  {
   "cell_type": "code",
   "execution_count": 75,
   "id": "1350b9ee",
   "metadata": {},
   "outputs": [
    {
     "name": "stdout",
     "output_type": "stream",
     "text": [
      "Accuracy \t 0.9727050711104727\n",
      "Precision\t 0.9773137854363535\n",
      "Recall\t\t 0.9895525538201773\n",
      "F1 Score\t 0.983395091938754\n",
      "Fall-out\t 0.10239924729496629\n",
      "Log-Loss\t 0.09932223287083577\n"
     ]
    }
   ],
   "source": [
    "!python ff_eval_single.py --fake-threshold 0.5 --real-threshold 0.5 --result-path \"ensembled/5.csv\" --answer-json \"../output.json\""
   ]
  },
  {
   "cell_type": "markdown",
   "id": "2cd3b825",
   "metadata": {},
   "source": [
    "# Try #6 (B7_BEST + Resnest + Deit1 + Deit2)"
   ]
  },
  {
   "cell_type": "code",
   "execution_count": 102,
   "id": "7348bb52",
   "metadata": {},
   "outputs": [],
   "source": [
    "ensembled[\"label\"] = b7_best[\"label\"]*0.3 + resnest[\"label\"]*0.3 + deitb_1[\"label\"]*0.2 + deitb_2[\"label\"]*0.2\n",
    "ensembled.to_csv(\"ensembled/6.csv\",index=False)"
   ]
  },
  {
   "cell_type": "code",
   "execution_count": 103,
   "id": "c6745274",
   "metadata": {},
   "outputs": [
    {
     "name": "stdout",
     "output_type": "stream",
     "text": [
      "Accuracy \t 0.9814681798592156\n",
      "Precision\t 0.9848874374652585\n",
      "Recall\t\t 0.992646801358591\n",
      "F1 Score\t 0.9887518964825699\n",
      "Fall-out\t 0.06964457252641691\n",
      "Log-Loss\t 0.10153860094145371\n"
     ]
    }
   ],
   "source": [
    "!python ff_eval_single.py --fake-threshold 0.5 --real-threshold 0.5 --result-path \"ensembled/6.csv\" --answer-json \"../output.json\""
   ]
  },
  {
   "cell_type": "markdown",
   "id": "dbcc7432",
   "metadata": {},
   "source": [
    "# Try #7 (B7_BEST + deit1+ effv2))"
   ]
  },
  {
   "cell_type": "code",
   "execution_count": 110,
   "id": "0a8675be",
   "metadata": {},
   "outputs": [],
   "source": [
    "ensembled[\"label\"] = b7_best[\"label\"]*0.8 + deitb_1[\"label\"]*0.1 + effv2[\"label\"]*0.1\n",
    "ensembled.to_csv(\"ensembled/7.csv\",index=False)"
   ]
  },
  {
   "cell_type": "code",
   "execution_count": 111,
   "id": "16d8a4f6",
   "metadata": {},
   "outputs": [
    {
     "name": "stdout",
     "output_type": "stream",
     "text": [
      "Accuracy \t 0.9764969543730606\n",
      "Precision\t 0.9808567557238648\n",
      "Recall\t\t 0.990631250219306\n",
      "F1 Score\t 0.9857197723543173\n",
      "Fall-out\t 0.087390959555908\n",
      "Log-Loss\t 0.0875883330953792\n"
     ]
    }
   ],
   "source": [
    "!python ff_eval_single.py --fake-threshold 0.5 --real-threshold 0.5 --result-path \"ensembled/7.csv\" --answer-json \"../output.json\""
   ]
  },
  {
   "cell_type": "markdown",
   "id": "a0efc4a9",
   "metadata": {},
   "source": [
    "# Try #8 (B7_BEST + B7_1 + effv2 + deit1)"
   ]
  },
  {
   "cell_type": "code",
   "execution_count": 116,
   "id": "099ee71c",
   "metadata": {},
   "outputs": [],
   "source": [
    "ensembled[\"label\"] = b7_best[\"label\"]*0.4 + b7_1[\"label\"]*0.3 + deitb_1[\"label\"]*0.1 + effv2[\"label\"]*0.2\n",
    "ensembled.to_csv(\"ensembled/8.csv\",index=False)"
   ]
  },
  {
   "cell_type": "code",
   "execution_count": 117,
   "id": "7f2b4b66",
   "metadata": {},
   "outputs": [
    {
     "name": "stdout",
     "output_type": "stream",
     "text": [
      "Accuracy \t 0.9796868266053728\n",
      "Precision\t 0.9862076153418566\n",
      "Recall\t\t 0.9891974770881974\n",
      "F1 Score\t 0.9877002835719629\n",
      "Fall-out\t 0.06499672560576293\n",
      "Log-Loss\t 0.09814020303149754\n"
     ]
    }
   ],
   "source": [
    "!python ff_eval_single.py --fake-threshold 0.5 --real-threshold 0.5 --result-path \"ensembled/8.csv\" --answer-json \"../output.json\""
   ]
  },
  {
   "cell_type": "markdown",
   "id": "7ed215c0",
   "metadata": {},
   "source": [
    "# Try #9 (all)"
   ]
  },
  {
   "cell_type": "code",
   "execution_count": 162,
   "id": "459ddf09",
   "metadata": {},
   "outputs": [],
   "source": [
    "ensembled[\"label\"] = b7_best[\"label\"]*0.3 + b7_1[\"label\"]*0.2  + resnest[\"label\"]*0.2 + deitb_1[\"label\"]*0.2 + deitb_2[\"label\"]*0.2 + effv2[\"label\"]*0.2\n",
    "ensembled.to_csv(\"ensembled/9.csv\",index=False)"
   ]
  },
  {
   "cell_type": "code",
   "execution_count": 163,
   "id": "1fc8affe",
   "metadata": {},
   "outputs": [
    {
     "name": "stdout",
     "output_type": "stream",
     "text": [
      "Accuracy \t 0.9832256211403131\n",
      "Precision\t 0.9940257033692255\n",
      "Recall\t\t 0.9858077850499484\n",
      "F1 Score\t 0.9898996886890351\n",
      "Fall-out\t 0.02973206568712187\n",
      "Log-Loss\t 0.07637232829691903\n"
     ]
    }
   ],
   "source": [
    "!python ff_eval_single.py --fake-threshold 0.5 --real-threshold 0.5 --result-path \"ensembled/9.csv\" --answer-json \"../output.json\""
   ]
  },
  {
   "cell_type": "markdown",
   "id": "68d7ebd0",
   "metadata": {},
   "source": [
    "# Try #10 (B7_BEST + restnet + deitb_1 + effv2)"
   ]
  },
  {
   "cell_type": "code",
   "execution_count": 166,
   "id": "180563e9",
   "metadata": {},
   "outputs": [],
   "source": [
    "ensembled[\"label\"] = b7_best[\"label\"]*0.4 + resnest[\"label\"]*0.3 + deitb_1[\"label\"]*0.2+ effv2[\"label\"]*0.2\n",
    "ensembled.to_csv(\"ensembled/10.csv\",index=False)"
   ]
  },
  {
   "cell_type": "code",
   "execution_count": 167,
   "id": "99d9009f",
   "metadata": {},
   "outputs": [
    {
     "name": "stdout",
     "output_type": "stream",
     "text": [
      "Accuracy \t 0.9828522188711762\n",
      "Precision\t 0.9908301493574158\n",
      "Recall\t\t 0.9884611386395925\n",
      "F1 Score\t 0.9896442262658501\n",
      "Fall-out\t 0.04432505036937542\n",
      "Log-Loss\t 0.07925551081739078\n"
     ]
    }
   ],
   "source": [
    "!python ff_eval_single.py --fake-threshold 0.5 --real-threshold 0.5 --result-path \"ensembled/10.csv\" --answer-json \"../output.json\""
   ]
  },
  {
   "cell_type": "markdown",
   "id": "efcd2d98",
   "metadata": {},
   "source": [
    "# Try #11 (B7_BEST + Deit1 + Deit2)"
   ]
  },
  {
   "cell_type": "code",
   "execution_count": 191,
   "id": "2e86d6b8",
   "metadata": {},
   "outputs": [],
   "source": [
    "ensembled[\"label\"] = b7_best[\"label\"]*0.4 + b7_1[\"label\"]*0.3 + deitb_1[\"label\"]*0.2 + deitb_2[\"label\"]*0.2\n",
    "ensembled.to_csv(\"ensembled/11.csv\",index=False)"
   ]
  },
  {
   "cell_type": "code",
   "execution_count": 192,
   "id": "b7416d2b",
   "metadata": {},
   "outputs": [
    {
     "name": "stdout",
     "output_type": "stream",
     "text": [
      "Accuracy \t 0.981904351572598\n",
      "Precision\t 0.9886418895449809\n",
      "Recall\t\t 0.9894667315580894\n",
      "F1 Score\t 0.9890541385780804\n",
      "Fall-out\t 0.054058522069763595\n",
      "Log-Loss\t 0.07545185060698466\n"
     ]
    }
   ],
   "source": [
    "!python ff_eval_single.py --fake-threshold 0.5 --real-threshold 0.5 --result-path \"ensembled/11.csv\" --answer-json \"../output.json\""
   ]
  },
  {
   "cell_type": "raw",
   "id": "7154d42c",
   "metadata": {},
   "source": []
  },
  {
   "cell_type": "code",
   "execution_count": 63,
   "id": "f017250f",
   "metadata": {},
   "outputs": [
    {
     "name": "stdout",
     "output_type": "stream",
     "text": [
      "/bin/bash: ../download_weight.sh: Permission denied\n"
     ]
    }
   ],
   "source": []
  },
  {
   "cell_type": "code",
   "execution_count": null,
   "id": "35c7ad16",
   "metadata": {},
   "outputs": [],
   "source": []
  }
 ],
 "metadata": {
  "kernelspec": {
   "display_name": "Python 3",
   "language": "python",
   "name": "python3"
  },
  "language_info": {
   "codemirror_mode": {
    "name": "ipython",
    "version": 3
   },
   "file_extension": ".py",
   "mimetype": "text/x-python",
   "name": "python",
   "nbconvert_exporter": "python",
   "pygments_lexer": "ipython3",
   "version": "3.8.10"
  }
 },
 "nbformat": 4,
 "nbformat_minor": 5
}
