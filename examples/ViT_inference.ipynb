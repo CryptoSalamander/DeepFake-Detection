{
 "cells": [
  {
   "cell_type": "markdown",
   "metadata": {},
   "source": [
    "# Deit base 384_1 with DFDC dataset"
   ]
  },
  {
   "cell_type": "code",
   "execution_count": 30,
   "metadata": {},
   "outputs": [
    {
     "name": "stdout",
     "output_type": "stream",
     "text": [
      "Start inference ../../dfdc_train_all/dfdc_test/dfdc_train_part_36\n",
      "loading state dict weights/deitb_384_1\n",
      "Predicting 2339 videos\n",
      "  0%|                                                  | 0/2339 [00:00<?, ?it/s]/opt/conda/lib/python3.8/site-packages/torch/nn/functional.py:718: UserWarning: Named tensors and all their associated APIs are an experimental feature and subject to change. Please do not use them for anything important until they are released as stable. (Triggered internally at  ../c10/core/TensorImpl.h:1153.)\n",
      "  return torch.max_pool2d(input, kernel_size, stride, padding, dilation, ceil_mode)\n",
      "100%|█████████████████████████████████████| 2339/2339 [3:29:13<00:00,  5.37s/it]\n",
      "Elapsed: 12553.68646979332\n",
      "Start inference ../../dfdc_train_all/dfdc_test/dfdc_train_part_37\n",
      "loading state dict weights/deitb_384_1\n",
      "Predicting 2655 videos\n",
      "100%|█████████████████████████████████████| 2655/2655 [4:18:38<00:00,  5.84s/it]\n",
      "Elapsed: 15518.154333114624\n",
      "Start inference ../../dfdc_train_all/dfdc_test/dfdc_train_part_38\n",
      "loading state dict weights/deitb_384_1\n",
      "Predicting 2477 videos\n",
      "100%|█████████████████████████████████████| 2477/2477 [4:10:50<00:00,  6.08s/it]\n",
      "Elapsed: 15050.808242559433\n",
      "Start inference ../../dfdc_train_all/dfdc_test/dfdc_train_part_39\n",
      "loading state dict weights/deitb_384_1\n",
      "Predicting 2556 videos\n",
      "100%|█████████████████████████████████████| 2556/2556 [4:07:20<00:00,  5.81s/it]\n",
      "Elapsed: 14840.284415245056\n",
      "Start inference ../../dfdc_train_all/dfdc_test/dfdc_train_part_40\n",
      "loading state dict weights/deitb_384_1\n",
      "Predicting 2420 videos\n",
      "100%|█████████████████████████████████████| 2420/2420 [4:03:13<00:00,  6.03s/it]\n",
      "Elapsed: 14593.471556425095\n",
      "Start inference ../../dfdc_train_all/dfdc_test/dfdc_train_part_41\n",
      "loading state dict weights/deitb_384_1\n",
      "Predicting 2222 videos\n",
      "100%|█████████████████████████████████████| 2222/2222 [4:06:44<00:00,  6.66s/it]\n",
      "Elapsed: 14804.677297115326\n",
      "Start inference ../../dfdc_train_all/dfdc_test/dfdc_train_part_42\n",
      "loading state dict weights/deitb_384_1\n",
      "Predicting 2384 videos\n",
      "100%|█████████████████████████████████████| 2384/2384 [4:11:02<00:00,  6.32s/it]\n",
      "Elapsed: 15062.033877134323\n",
      "Start inference ../../dfdc_train_all/dfdc_test/dfdc_train_part_43\n",
      "loading state dict weights/deitb_384_1\n",
      "Predicting 2546 videos\n",
      "100%|█████████████████████████████████████| 2546/2546 [4:11:25<00:00,  5.93s/it]\n",
      "Elapsed: 15085.284162044525\n",
      "Start inference ../../dfdc_train_all/dfdc_test/dfdc_train_part_44\n",
      "loading state dict weights/deitb_384_1\n",
      "Predicting 2665 videos\n",
      "100%|█████████████████████████████████████| 2665/2665 [4:28:02<00:00,  6.03s/it]\n",
      "Elapsed: 16082.062228679657\n",
      "Start inference ../../dfdc_train_all/dfdc_test/dfdc_train_part_45\n",
      "loading state dict weights/deitb_384_1\n",
      "Predicting 2346 videos\n",
      "100%|█████████████████████████████████████| 2346/2346 [3:47:56<00:00,  5.83s/it]\n",
      "Elapsed: 13676.156579494476\n",
      "Start inference ../../dfdc_train_all/dfdc_test/dfdc_train_part_46\n",
      "loading state dict weights/deitb_384_1\n",
      "Predicting 2202 videos\n",
      "100%|█████████████████████████████████████| 2202/2202 [3:25:41<00:00,  5.60s/it]\n",
      "Elapsed: 12341.37680387497\n",
      "Start inference ../../dfdc_train_all/dfdc_test/dfdc_train_part_47\n",
      "loading state dict weights/deitb_384_1\n",
      "Predicting 2406 videos\n",
      "100%|█████████████████████████████████████| 2406/2406 [3:53:03<00:00,  5.81s/it]\n",
      "Elapsed: 13983.422096729279\n",
      "Start inference ../../dfdc_train_all/dfdc_test/dfdc_train_part_48\n",
      "loading state dict weights/deitb_384_1\n",
      "Predicting 2463 videos\n",
      "100%|█████████████████████████████████████| 2463/2463 [3:59:10<00:00,  5.83s/it]\n",
      "Elapsed: 14350.526389837265\n",
      "Start inference ../../dfdc_train_all/dfdc_test/dfdc_train_part_49\n",
      "loading state dict weights/deitb_384_1\n",
      "Predicting 3134 videos\n",
      "100%|█████████████████████████████████████| 3134/3134 [4:34:58<00:00,  5.26s/it]\n",
      "Elapsed: 16498.893772363663\n"
     ]
    }
   ],
   "source": [
    "!python predictViT1.py --models \"deitb_384_1\" --test-dir \"../../dfdc_train_all/dfdc_test/\" --encoder \"deit_base_patch16_384\" --range1 36 --range2 50 --size 384 --output \"effv2m_in21k.csv\""
   ]
  },
  {
   "cell_type": "markdown",
   "metadata": {},
   "source": [
    "# Deit base 384_1 with FaceForensics"
   ]
  },
  {
   "cell_type": "code",
   "execution_count": 1,
   "metadata": {},
   "outputs": [
    {
     "name": "stdout",
     "output_type": "stream",
     "text": [
      "Start inference ../../faceforensics/manipulated_sequences/dfdc_train_part_36\n",
      "loading state dict weights/deitb_384_1\n",
      "Predicting 3068 videos\n",
      "  0%|                                                  | 0/3068 [00:00<?, ?it/s]/opt/conda/lib/python3.8/site-packages/torch/nn/functional.py:718: UserWarning: Named tensors and all their associated APIs are an experimental feature and subject to change. Please do not use them for anything important until they are released as stable. (Triggered internally at  ../c10/core/TensorImpl.h:1153.)\n",
      "  return torch.max_pool2d(input, kernel_size, stride, padding, dilation, ceil_mode)\n",
      " 43%|███████████████▏                   | 1329/3068 [4:21:42<3:15:04,  6.73s/it]Exception while reading movie ../../faceforensics/manipulated_sequences/dfdc_train_part_36/12_06__secret_conversation__F3I4PDYF.mp4\n",
      " 44%|███████████████▌                   | 1362/3068 [4:28:39<5:21:33, 11.31s/it]Exception while reading movie ../../faceforensics/manipulated_sequences/dfdc_train_part_36/12_13__secret_conversation__2TM4IFSF.mp4\n",
      " 45%|███████████████▊                   | 1383/3068 [4:32:40<4:57:04, 10.58s/it]Exception while reading movie ../../faceforensics/manipulated_sequences/dfdc_train_part_36/12_15__secret_conversation__N0SRODQD.mp4\n",
      " 46%|███████████████▉                   | 1400/3068 [4:36:26<9:45:56, 21.08s/it]Exception while reading movie ../../faceforensics/manipulated_sequences/dfdc_train_part_36/12_20__secret_conversation__B0X1CGG2.mp4\n",
      "Exception while reading movie ../../faceforensics/manipulated_sequences/dfdc_train_part_36/12_20__secret_conversation__VD7BCF1U.mp4\n",
      " 46%|████████████████                   | 1409/3068 [4:38:05<4:38:18, 10.07s/it]Exception while reading movie ../../faceforensics/manipulated_sequences/dfdc_train_part_36/12_21__secret_conversation__J54W3PV1.mp4\n",
      "100%|████████████████████████████████████| 3068/3068 [10:07:09<00:00, 11.87s/it]\n",
      "Elapsed: 36429.21280813217\n",
      "Start inference ../../faceforensics/manipulated_sequences/dfdc_train_part_37\n",
      "loading state dict weights/deitb_384_1\n",
      "Predicting 2000 videos\n",
      "100%|█████████████████████████████████████| 2000/2000 [3:31:28<00:00,  6.34s/it]\n",
      "Elapsed: 12688.80582332611\n",
      "Start inference ../../faceforensics/manipulated_sequences/dfdc_train_part_38\n",
      "loading state dict weights/deitb_384_1\n",
      "Predicting 2000 videos\n",
      "100%|█████████████████████████████████████| 2000/2000 [3:31:29<00:00,  6.34s/it]\n",
      "Elapsed: 12689.666499137878\n",
      "Start inference ../../faceforensics/manipulated_sequences/dfdc_train_part_39\n",
      "loading state dict weights/deitb_384_1\n",
      "Predicting 2000 videos\n",
      "100%|█████████████████████████████████████| 2000/2000 [3:32:32<00:00,  6.38s/it]\n",
      "Elapsed: 12752.256900787354\n",
      "Start inference ../../faceforensics/manipulated_sequences/dfdc_train_part_40\n",
      "loading state dict weights/deitb_384_1\n",
      "Predicting 2000 videos\n",
      "100%|█████████████████████████████████████| 2000/2000 [3:11:01<00:00,  5.73s/it]\n",
      "Elapsed: 11461.30780506134\n",
      "Start inference ../../faceforensics/manipulated_sequences/dfdc_train_part_41\n",
      "loading state dict weights/deitb_384_1\n",
      "Predicting 2000 videos\n",
      "100%|█████████████████████████████████████| 2000/2000 [3:10:14<00:00,  5.71s/it]\n",
      "Elapsed: 11414.130562782288\n"
     ]
    }
   ],
   "source": [
    "!python predictViT1.py --models \"deitb_384_1\" --test-dir \"../../faceforensics/manipulated_sequences/\" --encoder \"deit_base_patch16_384\" --range1 36 --range2 42 --size 384 --output \"DeepFakeDetection\""
   ]
  },
  {
   "cell_type": "markdown",
   "metadata": {},
   "source": [
    "# Deit base 384_1 with Celeb-DF"
   ]
  },
  {
   "cell_type": "code",
   "execution_count": 2,
   "metadata": {},
   "outputs": [
    {
     "name": "stdout",
     "output_type": "stream",
     "text": [
      "Start inference ../../celeb_df/TestSet/dfdc_train_part_0\n",
      "loading state dict weights/deitb_384_1\n",
      "Predicting 518 videos\n",
      "  0%|                                                   | 0/518 [00:00<?, ?it/s]/opt/conda/lib/python3.8/site-packages/torch/nn/functional.py:718: UserWarning: Named tensors and all their associated APIs are an experimental feature and subject to change. Please do not use them for anything important until they are released as stable. (Triggered internally at  ../c10/core/TensorImpl.h:1153.)\n",
      "  return torch.max_pool2d(input, kernel_size, stride, padding, dilation, ceil_mode)\n",
      "100%|█████████████████████████████████████████| 518/518 [22:13<00:00,  2.57s/it]\n",
      "Elapsed: 1333.0312933921814\n"
     ]
    }
   ],
   "source": [
    "!python predictViT1.py --models \"deitb_384_1\" --test-dir \"../../celeb_df/TestSet/\" --encoder \"deit_base_patch16_384\" --range1 0 --range2 1 --size 384 --output \"DeepFakeDetection\""
   ]
  },
  {
   "cell_type": "code",
   "execution_count": null,
   "metadata": {},
   "outputs": [],
   "source": []
  }
 ],
 "metadata": {
  "kernelspec": {
   "display_name": "Python 3",
   "language": "python",
   "name": "python3"
  },
  "language_info": {
   "codemirror_mode": {
    "name": "ipython",
    "version": 3
   },
   "file_extension": ".py",
   "mimetype": "text/x-python",
   "name": "python",
   "nbconvert_exporter": "python",
   "pygments_lexer": "ipython3",
   "version": "3.8.10"
  }
 },
 "nbformat": 4,
 "nbformat_minor": 4
}
