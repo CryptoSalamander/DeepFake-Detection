{
 "cells": [
  {
   "cell_type": "code",
   "execution_count": 10,
   "metadata": {},
   "outputs": [
    {
     "name": "stdout",
     "output_type": "stream",
     "text": [
      "loading state dict weights/b7_111_DeepFakeClassifier_tf_efficientnet_b7_ns_0_37\n",
      "loading state dict weights/b7_555_DeepFakeClassifier_tf_efficientnet_b7_ns_0_24\n",
      "loading state dict weights/b7_777_DeepFakeClassifier_tf_efficientnet_b7_ns_0_22\n",
      "loading state dict weights/b7_777_DeepFakeClassifier_tf_efficientnet_b7_ns_0_37\n",
      "loading state dict weights/b7_888_DeepFakeClassifier_tf_efficientnet_b7_ns_0_36\n",
      "loading state dict weights/b7_999_DeepFakeClassifier_tf_efficientnet_b7_ns_0_29\n",
      "loading state dict weights/b7_999_DeepFakeClassifier_tf_efficientnet_b7_ns_0_34\n",
      "Predicting 2339 videos\n",
      "Prediction error on video ../dfdc_train_all/dfdc_test/dfdc_train_part_36/uphqywpluy.mp4: dimension specified as 0 but tensor has no dimensions\n",
      "Elapsed: 7485.551160812378\n"
     ]
    }
   ],
   "source": [
    "!python predict_folder.py --test-dir \"../dfdc_train_all/dfdc_test/dfdc_train_part_36\" --output \"36.csv\" --models b7_111_DeepFakeClassifier_tf_efficientnet_b7_ns_0_37 b7_555_DeepFakeClassifier_tf_efficientnet_b7_ns_0_24 b7_777_DeepFakeClassifier_tf_efficientnet_b7_ns_0_22 b7_777_DeepFakeClassifier_tf_efficientnet_b7_ns_0_37 b7_888_DeepFakeClassifier_tf_efficientnet_b7_ns_0_36 b7_999_DeepFakeClassifier_tf_efficientnet_b7_ns_0_29 b7_999_DeepFakeClassifier_tf_efficientnet_b7_ns_0_34"
   ]
  },
  {
   "cell_type": "code",
   "execution_count": 24,
   "metadata": {},
   "outputs": [
    {
     "name": "stdout",
     "output_type": "stream",
     "text": [
      "loading state dict weights/b7_111_DeepFakeClassifier_tf_efficientnet_b7_ns_0_37\n",
      "loading state dict weights/b7_555_DeepFakeClassifier_tf_efficientnet_b7_ns_0_24\n",
      "loading state dict weights/b7_777_DeepFakeClassifier_tf_efficientnet_b7_ns_0_22\n",
      "loading state dict weights/b7_777_DeepFakeClassifier_tf_efficientnet_b7_ns_0_37\n",
      "loading state dict weights/b7_888_DeepFakeClassifier_tf_efficientnet_b7_ns_0_36\n",
      "loading state dict weights/b7_999_DeepFakeClassifier_tf_efficientnet_b7_ns_0_29\n",
      "loading state dict weights/b7_999_DeepFakeClassifier_tf_efficientnet_b7_ns_0_34\n",
      "Predicting 2655 videos\n",
      "Elapsed: 7779.922530889511\n"
     ]
    }
   ],
   "source": [
    "!python predict_folder.py --test-dir \"../dfdc_train_all/dfdc_test/dfdc_train_part_37\" --output \"37.csv\" --models b7_111_DeepFakeClassifier_tf_efficientnet_b7_ns_0_37 b7_555_DeepFakeClassifier_tf_efficientnet_b7_ns_0_24 b7_777_DeepFakeClassifier_tf_efficientnet_b7_ns_0_22 b7_777_DeepFakeClassifier_tf_efficientnet_b7_ns_0_37 b7_888_DeepFakeClassifier_tf_efficientnet_b7_ns_0_36 b7_999_DeepFakeClassifier_tf_efficientnet_b7_ns_0_29 b7_999_DeepFakeClassifier_tf_efficientnet_b7_ns_0_34"
   ]
  },
  {
   "cell_type": "code",
   "execution_count": 25,
   "metadata": {},
   "outputs": [
    {
     "name": "stdout",
     "output_type": "stream",
     "text": [
      "loading state dict weights/b7_111_DeepFakeClassifier_tf_efficientnet_b7_ns_0_37\n",
      "loading state dict weights/b7_555_DeepFakeClassifier_tf_efficientnet_b7_ns_0_24\n",
      "loading state dict weights/b7_777_DeepFakeClassifier_tf_efficientnet_b7_ns_0_22\n",
      "loading state dict weights/b7_777_DeepFakeClassifier_tf_efficientnet_b7_ns_0_37\n",
      "loading state dict weights/b7_888_DeepFakeClassifier_tf_efficientnet_b7_ns_0_36\n",
      "loading state dict weights/b7_999_DeepFakeClassifier_tf_efficientnet_b7_ns_0_29\n",
      "loading state dict weights/b7_999_DeepFakeClassifier_tf_efficientnet_b7_ns_0_34\n",
      "Predicting 2477 videos\n",
      "Elapsed: 10629.914214134216\n"
     ]
    }
   ],
   "source": [
    "!python predict_folder.py --test-dir \"../dfdc_train_all/dfdc_test/dfdc_train_part_38\" --output \"38.csv\" --models b7_111_DeepFakeClassifier_tf_efficientnet_b7_ns_0_37 b7_555_DeepFakeClassifier_tf_efficientnet_b7_ns_0_24 b7_777_DeepFakeClassifier_tf_efficientnet_b7_ns_0_22 b7_777_DeepFakeClassifier_tf_efficientnet_b7_ns_0_37 b7_888_DeepFakeClassifier_tf_efficientnet_b7_ns_0_36 b7_999_DeepFakeClassifier_tf_efficientnet_b7_ns_0_29 b7_999_DeepFakeClassifier_tf_efficientnet_b7_ns_0_34"
   ]
  },
  {
   "cell_type": "code",
   "execution_count": 26,
   "metadata": {},
   "outputs": [
    {
     "name": "stdout",
     "output_type": "stream",
     "text": [
      "loading state dict weights/b7_111_DeepFakeClassifier_tf_efficientnet_b7_ns_0_37\n",
      "loading state dict weights/b7_555_DeepFakeClassifier_tf_efficientnet_b7_ns_0_24\n",
      "loading state dict weights/b7_777_DeepFakeClassifier_tf_efficientnet_b7_ns_0_22\n",
      "loading state dict weights/b7_777_DeepFakeClassifier_tf_efficientnet_b7_ns_0_37\n",
      "loading state dict weights/b7_888_DeepFakeClassifier_tf_efficientnet_b7_ns_0_36\n",
      "loading state dict weights/b7_999_DeepFakeClassifier_tf_efficientnet_b7_ns_0_29\n",
      "loading state dict weights/b7_999_DeepFakeClassifier_tf_efficientnet_b7_ns_0_34\n",
      "Predicting 2556 videos\n",
      "Elapsed: 11251.549453258514\n"
     ]
    }
   ],
   "source": [
    "!python predict_folder.py --test-dir \"../dfdc_train_all/dfdc_test/dfdc_train_part_39\" --output \"39.csv\" --models b7_111_DeepFakeClassifier_tf_efficientnet_b7_ns_0_37 b7_555_DeepFakeClassifier_tf_efficientnet_b7_ns_0_24 b7_777_DeepFakeClassifier_tf_efficientnet_b7_ns_0_22 b7_777_DeepFakeClassifier_tf_efficientnet_b7_ns_0_37 b7_888_DeepFakeClassifier_tf_efficientnet_b7_ns_0_36 b7_999_DeepFakeClassifier_tf_efficientnet_b7_ns_0_29 b7_999_DeepFakeClassifier_tf_efficientnet_b7_ns_0_34"
   ]
  },
  {
   "cell_type": "code",
   "execution_count": 27,
   "metadata": {},
   "outputs": [
    {
     "name": "stdout",
     "output_type": "stream",
     "text": [
      "loading state dict weights/b7_111_DeepFakeClassifier_tf_efficientnet_b7_ns_0_37\n",
      "loading state dict weights/b7_555_DeepFakeClassifier_tf_efficientnet_b7_ns_0_24\n",
      "loading state dict weights/b7_777_DeepFakeClassifier_tf_efficientnet_b7_ns_0_22\n",
      "loading state dict weights/b7_777_DeepFakeClassifier_tf_efficientnet_b7_ns_0_37\n",
      "loading state dict weights/b7_888_DeepFakeClassifier_tf_efficientnet_b7_ns_0_36\n",
      "loading state dict weights/b7_999_DeepFakeClassifier_tf_efficientnet_b7_ns_0_29\n",
      "loading state dict weights/b7_999_DeepFakeClassifier_tf_efficientnet_b7_ns_0_34\n",
      "Predicting 2420 videos\n",
      "Elapsed: 10841.443917751312\n"
     ]
    }
   ],
   "source": [
    "!python predict_folder.py --test-dir \"../dfdc_train_all/dfdc_test/dfdc_train_part_40\" --output \"40.csv\" --models b7_111_DeepFakeClassifier_tf_efficientnet_b7_ns_0_37 b7_555_DeepFakeClassifier_tf_efficientnet_b7_ns_0_24 b7_777_DeepFakeClassifier_tf_efficientnet_b7_ns_0_22 b7_777_DeepFakeClassifier_tf_efficientnet_b7_ns_0_37 b7_888_DeepFakeClassifier_tf_efficientnet_b7_ns_0_36 b7_999_DeepFakeClassifier_tf_efficientnet_b7_ns_0_29 b7_999_DeepFakeClassifier_tf_efficientnet_b7_ns_0_34"
   ]
  },
  {
   "cell_type": "code",
   "execution_count": 28,
   "metadata": {},
   "outputs": [
    {
     "name": "stdout",
     "output_type": "stream",
     "text": [
      "loading state dict weights/b7_111_DeepFakeClassifier_tf_efficientnet_b7_ns_0_37\n",
      "loading state dict weights/b7_555_DeepFakeClassifier_tf_efficientnet_b7_ns_0_24\n",
      "loading state dict weights/b7_777_DeepFakeClassifier_tf_efficientnet_b7_ns_0_22\n",
      "loading state dict weights/b7_777_DeepFakeClassifier_tf_efficientnet_b7_ns_0_37\n",
      "loading state dict weights/b7_888_DeepFakeClassifier_tf_efficientnet_b7_ns_0_36\n",
      "loading state dict weights/b7_999_DeepFakeClassifier_tf_efficientnet_b7_ns_0_29\n",
      "loading state dict weights/b7_999_DeepFakeClassifier_tf_efficientnet_b7_ns_0_34\n",
      "Predicting 2222 videos\n",
      "Elapsed: 11173.1738884449\n"
     ]
    }
   ],
   "source": [
    "!python predict_folder.py --test-dir \"../dfdc_train_all/dfdc_test/dfdc_train_part_41\" --output \"41.csv\" --models b7_111_DeepFakeClassifier_tf_efficientnet_b7_ns_0_37 b7_555_DeepFakeClassifier_tf_efficientnet_b7_ns_0_24 b7_777_DeepFakeClassifier_tf_efficientnet_b7_ns_0_22 b7_777_DeepFakeClassifier_tf_efficientnet_b7_ns_0_37 b7_888_DeepFakeClassifier_tf_efficientnet_b7_ns_0_36 b7_999_DeepFakeClassifier_tf_efficientnet_b7_ns_0_29 b7_999_DeepFakeClassifier_tf_efficientnet_b7_ns_0_34"
   ]
  },
  {
   "cell_type": "code",
   "execution_count": 29,
   "metadata": {},
   "outputs": [
    {
     "name": "stdout",
     "output_type": "stream",
     "text": [
      "loading state dict weights/b7_111_DeepFakeClassifier_tf_efficientnet_b7_ns_0_37\n",
      "loading state dict weights/b7_555_DeepFakeClassifier_tf_efficientnet_b7_ns_0_24\n",
      "loading state dict weights/b7_777_DeepFakeClassifier_tf_efficientnet_b7_ns_0_22\n",
      "loading state dict weights/b7_777_DeepFakeClassifier_tf_efficientnet_b7_ns_0_37\n",
      "loading state dict weights/b7_888_DeepFakeClassifier_tf_efficientnet_b7_ns_0_36\n",
      "loading state dict weights/b7_999_DeepFakeClassifier_tf_efficientnet_b7_ns_0_29\n",
      "loading state dict weights/b7_999_DeepFakeClassifier_tf_efficientnet_b7_ns_0_34\n",
      "Predicting 2384 videos\n",
      "Elapsed: 11466.441805124283\n"
     ]
    }
   ],
   "source": [
    "!python predict_folder.py --test-dir \"../dfdc_train_all/dfdc_test/dfdc_train_part_42\" --output \"42.csv\" --models b7_111_DeepFakeClassifier_tf_efficientnet_b7_ns_0_37 b7_555_DeepFakeClassifier_tf_efficientnet_b7_ns_0_24 b7_777_DeepFakeClassifier_tf_efficientnet_b7_ns_0_22 b7_777_DeepFakeClassifier_tf_efficientnet_b7_ns_0_37 b7_888_DeepFakeClassifier_tf_efficientnet_b7_ns_0_36 b7_999_DeepFakeClassifier_tf_efficientnet_b7_ns_0_29 b7_999_DeepFakeClassifier_tf_efficientnet_b7_ns_0_34"
   ]
  },
  {
   "cell_type": "code",
   "execution_count": 30,
   "metadata": {},
   "outputs": [
    {
     "name": "stdout",
     "output_type": "stream",
     "text": [
      "loading state dict weights/b7_111_DeepFakeClassifier_tf_efficientnet_b7_ns_0_37\n",
      "loading state dict weights/b7_555_DeepFakeClassifier_tf_efficientnet_b7_ns_0_24\n",
      "loading state dict weights/b7_777_DeepFakeClassifier_tf_efficientnet_b7_ns_0_22\n",
      "loading state dict weights/b7_777_DeepFakeClassifier_tf_efficientnet_b7_ns_0_37\n",
      "loading state dict weights/b7_888_DeepFakeClassifier_tf_efficientnet_b7_ns_0_36\n",
      "loading state dict weights/b7_999_DeepFakeClassifier_tf_efficientnet_b7_ns_0_29\n",
      "loading state dict weights/b7_999_DeepFakeClassifier_tf_efficientnet_b7_ns_0_34\n",
      "Predicting 2546 videos\n",
      "Elapsed: 7932.402064323425\n"
     ]
    }
   ],
   "source": [
    "!python predict_folder.py --test-dir \"../dfdc_train_all/dfdc_test/dfdc_train_part_43\" --output \"43.csv\" --models b7_111_DeepFakeClassifier_tf_efficientnet_b7_ns_0_37 b7_555_DeepFakeClassifier_tf_efficientnet_b7_ns_0_24 b7_777_DeepFakeClassifier_tf_efficientnet_b7_ns_0_22 b7_777_DeepFakeClassifier_tf_efficientnet_b7_ns_0_37 b7_888_DeepFakeClassifier_tf_efficientnet_b7_ns_0_36 b7_999_DeepFakeClassifier_tf_efficientnet_b7_ns_0_29 b7_999_DeepFakeClassifier_tf_efficientnet_b7_ns_0_34"
   ]
  },
  {
   "cell_type": "code",
   "execution_count": 31,
   "metadata": {},
   "outputs": [
    {
     "name": "stdout",
     "output_type": "stream",
     "text": [
      "loading state dict weights/b7_111_DeepFakeClassifier_tf_efficientnet_b7_ns_0_37\n",
      "loading state dict weights/b7_555_DeepFakeClassifier_tf_efficientnet_b7_ns_0_24\n",
      "loading state dict weights/b7_777_DeepFakeClassifier_tf_efficientnet_b7_ns_0_22\n",
      "loading state dict weights/b7_777_DeepFakeClassifier_tf_efficientnet_b7_ns_0_37\n",
      "loading state dict weights/b7_888_DeepFakeClassifier_tf_efficientnet_b7_ns_0_36\n",
      "loading state dict weights/b7_999_DeepFakeClassifier_tf_efficientnet_b7_ns_0_29\n",
      "loading state dict weights/b7_999_DeepFakeClassifier_tf_efficientnet_b7_ns_0_34\n",
      "Predicting 2665 videos\n",
      "Elapsed: 8032.631194591522\n"
     ]
    }
   ],
   "source": [
    "!python predict_folder.py --test-dir \"../dfdc_train_all/dfdc_test/dfdc_train_part_44\" --output \"44.csv\" --models b7_111_DeepFakeClassifier_tf_efficientnet_b7_ns_0_37 b7_555_DeepFakeClassifier_tf_efficientnet_b7_ns_0_24 b7_777_DeepFakeClassifier_tf_efficientnet_b7_ns_0_22 b7_777_DeepFakeClassifier_tf_efficientnet_b7_ns_0_37 b7_888_DeepFakeClassifier_tf_efficientnet_b7_ns_0_36 b7_999_DeepFakeClassifier_tf_efficientnet_b7_ns_0_29 b7_999_DeepFakeClassifier_tf_efficientnet_b7_ns_0_34"
   ]
  }
 ],
 "metadata": {
  "kernelspec": {
   "display_name": "Python 3",
   "language": "python",
   "name": "python3"
  },
  "language_info": {
   "codemirror_mode": {
    "name": "ipython",
    "version": 3
   },
   "file_extension": ".py",
   "mimetype": "text/x-python",
   "name": "python",
   "nbconvert_exporter": "python",
   "pygments_lexer": "ipython3",
   "version": "3.7.0"
  }
 },
 "nbformat": 4,
 "nbformat_minor": 4
}
